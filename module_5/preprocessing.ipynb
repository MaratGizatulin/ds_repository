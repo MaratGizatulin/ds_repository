{
 "cells": [
  {
   "cell_type": "code",
   "execution_count": 1,
   "metadata": {
    "scrolled": true
   },
   "outputs": [],
   "source": [
    "import pandas as pd\n",
    "import os\n",
    "from pprint import pprint\n",
    "\n",
    "\n",
    "\n",
    "pd.set_option('display.max_columns', None)\n",
    "pd.set_option('display.width', 11900)\n",
    "# print(pd.read_csv('D:\\\\all_cars.csv', sep=';', encoding = 'utf-8'))\n",
    "\n",
    "df = pd.read_csv('D:\\\\all_cars.csv', sep=';', encoding = 'utf-8', low_memory=False)\n"
   ]
  },
  {
   "cell_type": "code",
   "execution_count": 2,
   "metadata": {},
   "outputs": [],
   "source": [
    "df.dropna(inplace=True)"
   ]
  },
  {
   "cell_type": "markdown",
   "metadata": {},
   "source": [
    "## Функции"
   ]
  },
  {
   "cell_type": "code",
   "execution_count": 3,
   "metadata": {},
   "outputs": [],
   "source": [
    "def get_int_cnt(x):\n",
    "    if str(x)[-2:] == '.0':\n",
    "        return x[:-2]\n",
    "    return x\n",
    "\n",
    "def describe_df_collumn(data_frame, collumn):\n",
    "    print('Группировка по значениям:' )\n",
    "    print(data_frame[collumn].value_counts().head(7))\n",
    "    print()\n",
    "    print('Нулевые значения' )\n",
    "    print(data_frame[collumn].isna().value_counts())\n",
    "\n",
    "#     print('отсутствует =' ,data_frame[data_frame[collumn].str.contains('отсутствуе', case=False) ][collumn].value_counts()[0 )\n",
    "    ind = data_frame[data_frame[collumn].str.contains('отсутствуе', case=False) ].index\n",
    "    print()\n",
    "    if len(ind) != 0:\n",
    "        data_frame.drop(ind, inplace=True)\n",
    "        print( 'Удалено пустых', len(ind) , 'строк')\n",
    "    else: \n",
    "        print( 'Пустых строк нет')\n",
    "    \n",
    "\n",
    "     "
   ]
  },
  {
   "cell_type": "code",
   "execution_count": 4,
   "metadata": {},
   "outputs": [],
   "source": [
    "df = df.drop(columns=['Unnamed: 0', 'Unnamed: 0.1'])"
   ]
  },
  {
   "cell_type": "code",
   "execution_count": 5,
   "metadata": {},
   "outputs": [
    {
     "data": {
      "text/html": [
       "<div>\n",
       "<style scoped>\n",
       "    .dataframe tbody tr th:only-of-type {\n",
       "        vertical-align: middle;\n",
       "    }\n",
       "\n",
       "    .dataframe tbody tr th {\n",
       "        vertical-align: top;\n",
       "    }\n",
       "\n",
       "    .dataframe thead th {\n",
       "        text-align: right;\n",
       "    }\n",
       "</style>\n",
       "<table border=\"1\" class=\"dataframe\">\n",
       "  <thead>\n",
       "    <tr style=\"text-align: right;\">\n",
       "      <th></th>\n",
       "      <th>bodyType</th>\n",
       "      <th>brand</th>\n",
       "      <th>car_url</th>\n",
       "      <th>color</th>\n",
       "      <th>complectation_dict</th>\n",
       "      <th>description</th>\n",
       "      <th>engineDisplacement</th>\n",
       "      <th>enginePower</th>\n",
       "      <th>equipment_dict</th>\n",
       "      <th>fuelType</th>\n",
       "      <th>image</th>\n",
       "      <th>mileage</th>\n",
       "      <th>modelDate</th>\n",
       "      <th>model_info</th>\n",
       "      <th>model_name</th>\n",
       "      <th>name</th>\n",
       "      <th>numberOfDoors</th>\n",
       "      <th>parsing_unixtime</th>\n",
       "      <th>priceCurrency</th>\n",
       "      <th>productionDate</th>\n",
       "      <th>sell_id</th>\n",
       "      <th>super_gen</th>\n",
       "      <th>vehicleConfiguration</th>\n",
       "      <th>vehicleTransmission</th>\n",
       "      <th>vendor</th>\n",
       "      <th>Владельцы</th>\n",
       "      <th>Владение</th>\n",
       "      <th>Привод</th>\n",
       "      <th>ПТС</th>\n",
       "      <th>Руль</th>\n",
       "      <th>Состояние</th>\n",
       "      <th>Таможня</th>\n",
       "      <th>price</th>\n",
       "    </tr>\n",
       "  </thead>\n",
       "  <tbody>\n",
       "    <tr>\n",
       "      <th>0</th>\n",
       "      <td>седан</td>\n",
       "      <td>Audi</td>\n",
       "      <td>https://auto.ru/cars/used/sale/audi/a6/1101610...</td>\n",
       "      <td>белый</td>\n",
       "      <td>отсутствует</td>\n",
       "      <td>отсутствует</td>\n",
       "      <td>2.0</td>\n",
       "      <td>180.0</td>\n",
       "      <td>отсутствует</td>\n",
       "      <td>Бензин</td>\n",
       "      <td>отсутствует</td>\n",
       "      <td>133 000 км</td>\n",
       "      <td>отсутствует</td>\n",
       "      <td>отсутствует</td>\n",
       "      <td>A6</td>\n",
       "      <td>2.0 CVT (180 л.с.)</td>\n",
       "      <td>отсутствует</td>\n",
       "      <td>отсутствует</td>\n",
       "      <td>RUB</td>\n",
       "      <td>2013.0</td>\n",
       "      <td>отсутствует</td>\n",
       "      <td>отсутствует</td>\n",
       "      <td>отсутствует</td>\n",
       "      <td>вариатор</td>\n",
       "      <td>отсутствует</td>\n",
       "      <td>2 владельца</td>\n",
       "      <td>отсутствует</td>\n",
       "      <td>передний</td>\n",
       "      <td>Оригинал</td>\n",
       "      <td>Левый</td>\n",
       "      <td>Не требует ремонта</td>\n",
       "      <td>Растаможен</td>\n",
       "      <td>от 895 000 ₽</td>\n",
       "    </tr>\n",
       "    <tr>\n",
       "      <th>1</th>\n",
       "      <td>седан</td>\n",
       "      <td>Audi</td>\n",
       "      <td>https://auto.ru/cars/used/sale/audi/100/110257...</td>\n",
       "      <td>серый</td>\n",
       "      <td>отсутствует</td>\n",
       "      <td>отсутствует</td>\n",
       "      <td>2.3</td>\n",
       "      <td>133.0</td>\n",
       "      <td>отсутствует</td>\n",
       "      <td>Бензин</td>\n",
       "      <td>отсутствует</td>\n",
       "      <td>350 000 км</td>\n",
       "      <td>отсутствует</td>\n",
       "      <td>отсутствует</td>\n",
       "      <td>100</td>\n",
       "      <td>2.3 MT (133 л.с.)</td>\n",
       "      <td>отсутствует</td>\n",
       "      <td>отсутствует</td>\n",
       "      <td>RUB</td>\n",
       "      <td>1991.0</td>\n",
       "      <td>отсутствует</td>\n",
       "      <td>отсутствует</td>\n",
       "      <td>отсутствует</td>\n",
       "      <td>механическая</td>\n",
       "      <td>отсутствует</td>\n",
       "      <td>3 или более</td>\n",
       "      <td>отсутствует</td>\n",
       "      <td>передний</td>\n",
       "      <td>Оригинал</td>\n",
       "      <td>Левый</td>\n",
       "      <td>Не требует ремонта</td>\n",
       "      <td>Растаможен</td>\n",
       "      <td>145 000 ₽</td>\n",
       "    </tr>\n",
       "    <tr>\n",
       "      <th>2</th>\n",
       "      <td>внедорожник 5 дв.</td>\n",
       "      <td>Audi</td>\n",
       "      <td>https://auto.ru/cars/used/sale/audi/q7/1101930...</td>\n",
       "      <td>белый</td>\n",
       "      <td>отсутствует</td>\n",
       "      <td>отсутствует</td>\n",
       "      <td>3.0</td>\n",
       "      <td>249.0</td>\n",
       "      <td>отсутствует</td>\n",
       "      <td>Дизель</td>\n",
       "      <td>отсутствует</td>\n",
       "      <td>76 000 км</td>\n",
       "      <td>отсутствует</td>\n",
       "      <td>отсутствует</td>\n",
       "      <td>Q7</td>\n",
       "      <td>3.0d AT (249 л.с.) 4WD</td>\n",
       "      <td>отсутствует</td>\n",
       "      <td>отсутствует</td>\n",
       "      <td>RUB</td>\n",
       "      <td>2016.0</td>\n",
       "      <td>отсутствует</td>\n",
       "      <td>отсутствует</td>\n",
       "      <td>отсутствует</td>\n",
       "      <td>автоматическая</td>\n",
       "      <td>отсутствует</td>\n",
       "      <td>1 владелец</td>\n",
       "      <td>4 года и 2 месяца</td>\n",
       "      <td>полный</td>\n",
       "      <td>Оригинал</td>\n",
       "      <td>Левый</td>\n",
       "      <td>Не требует ремонта</td>\n",
       "      <td>Растаможен</td>\n",
       "      <td>3 850 000 ₽</td>\n",
       "    </tr>\n",
       "  </tbody>\n",
       "</table>\n",
       "</div>"
      ],
      "text/plain": [
       "            bodyType brand                                            car_url  color complectation_dict  description engineDisplacement enginePower equipment_dict fuelType        image     mileage    modelDate   model_info model_name                     name numberOfDoors parsing_unixtime priceCurrency productionDate      sell_id    super_gen vehicleConfiguration vehicleTransmission       vendor    Владельцы           Владение    Привод       ПТС   Руль           Состояние     Таможня         price\n",
       "0              седан  Audi  https://auto.ru/cars/used/sale/audi/a6/1101610...  белый        отсутствует  отсутствует                2.0       180.0    отсутствует   Бензин  отсутствует  133 000 км  отсутствует  отсутствует        A6       2.0 CVT (180 л.с.)    отсутствует      отсутствует           RUB         2013.0  отсутствует  отсутствует          отсутствует            вариатор  отсутствует  2 владельца        отсутствует  передний  Оригинал  Левый  Не требует ремонта  Растаможен  от 895 000 ₽\n",
       "1              седан  Audi  https://auto.ru/cars/used/sale/audi/100/110257...  серый        отсутствует  отсутствует                2.3       133.0    отсутствует   Бензин  отсутствует  350 000 км  отсутствует  отсутствует       100        2.3 MT (133 л.с.)    отсутствует      отсутствует           RUB         1991.0  отсутствует  отсутствует          отсутствует        механическая  отсутствует  3 или более        отсутствует  передний  Оригинал  Левый  Не требует ремонта  Растаможен     145 000 ₽\n",
       "2  внедорожник 5 дв.  Audi  https://auto.ru/cars/used/sale/audi/q7/1101930...  белый        отсутствует  отсутствует                3.0       249.0    отсутствует   Дизель  отсутствует   76 000 км  отсутствует  отсутствует        Q7   3.0d AT (249 л.с.) 4WD    отсутствует      отсутствует           RUB         2016.0  отсутствует  отсутствует          отсутствует      автоматическая  отсутствует   1 владелец  4 года и 2 месяца    полный  Оригинал  Левый  Не требует ремонта  Растаможен   3 850 000 ₽"
      ]
     },
     "execution_count": 5,
     "metadata": {},
     "output_type": "execute_result"
    }
   ],
   "source": [
    "df.head(3)"
   ]
  },
  {
   "cell_type": "markdown",
   "metadata": {},
   "source": [
    "# Обработка столбцов"
   ]
  },
  {
   "cell_type": "markdown",
   "metadata": {},
   "source": [
    "##  0 bodyType"
   ]
  },
  {
   "cell_type": "code",
   "execution_count": 6,
   "metadata": {},
   "outputs": [
    {
     "name": "stdout",
     "output_type": "stream",
     "text": [
      "Группировка по значениям:\n",
      "внедорожник 5 дв.    49343\n",
      "седан                23908\n",
      "лифтбек               5681\n",
      "хэтчбек 5 дв.         3891\n",
      "универсал 5 дв.       2664\n",
      "минивэн               1938\n",
      "купе                  1111\n",
      "Name: bodyType, dtype: int64\n",
      "\n",
      "Нулевые значения\n",
      "False    92029\n",
      "Name: bodyType, dtype: int64\n",
      "\n",
      "Удалено пустых 14 строк\n"
     ]
    }
   ],
   "source": [
    "describe_df_collumn(df, 'bodyType')"
   ]
  },
  {
   "cell_type": "code",
   "execution_count": 7,
   "metadata": {},
   "outputs": [
    {
     "data": {
      "text/plain": [
       "2"
      ]
     },
     "execution_count": 7,
     "metadata": {},
     "output_type": "execute_result"
    }
   ],
   "source": [
    "ind = df[ (df['bodyType'] == 'синий') | (df['bodyType'] == 'серебристый') ].index\n",
    "df.drop(ind)\n",
    "len(ind)"
   ]
  },
  {
   "cell_type": "code",
   "execution_count": 8,
   "metadata": {},
   "outputs": [
    {
     "name": "stdout",
     "output_type": "stream",
     "text": [
      "Группировка по значениям:\n",
      "внедорожник 5 дв.    49343\n",
      "седан                23908\n",
      "лифтбек               5681\n",
      "хэтчбек 5 дв.         3891\n",
      "универсал 5 дв.       2664\n",
      "минивэн               1938\n",
      "купе                  1111\n",
      "Name: bodyType, dtype: int64\n",
      "\n",
      "Нулевые значения\n",
      "False    92015\n",
      "Name: bodyType, dtype: int64\n",
      "\n",
      "Пустых строк нет\n"
     ]
    }
   ],
   "source": [
    "describe_df_collumn(df, 'bodyType')"
   ]
  },
  {
   "cell_type": "markdown",
   "metadata": {},
   "source": [
    "## 1 brand"
   ]
  },
  {
   "cell_type": "code",
   "execution_count": 9,
   "metadata": {},
   "outputs": [
    {
     "name": "stdout",
     "output_type": "stream",
     "text": [
      "Группировка по значениям:\n",
      "Volkswagen       9007\n",
      "Mercedes-Benz    9006\n",
      "BMW              9002\n",
      "Nissan           8314\n",
      "Toyota           8299\n",
      "Audi             8087\n",
      "Skoda            7363\n",
      "Name: brand, dtype: int64\n",
      "\n",
      "Нулевые значения\n",
      "False    92015\n",
      "Name: brand, dtype: int64\n",
      "\n",
      "Пустых строк нет\n"
     ]
    }
   ],
   "source": [
    "describe_df_collumn(df, 'brand')"
   ]
  },
  {
   "cell_type": "code",
   "execution_count": 10,
   "metadata": {},
   "outputs": [
    {
     "name": "stdout",
     "output_type": "stream",
     "text": [
      "Группировка по значениям:\n",
      "Volkswagen       9007\n",
      "Mercedes-Benz    9006\n",
      "BMW              9002\n",
      "Nissan           8314\n",
      "Toyota           8299\n",
      "Audi             8087\n",
      "Skoda            7363\n",
      "Name: brand, dtype: int64\n",
      "\n",
      "Нулевые значения\n",
      "False    92015\n",
      "Name: brand, dtype: int64\n",
      "\n",
      "Пустых строк нет\n"
     ]
    }
   ],
   "source": [
    "describe_df_collumn(df, 'brand')"
   ]
  },
  {
   "cell_type": "markdown",
   "metadata": {},
   "source": [
    "## 2 car_url"
   ]
  },
  {
   "cell_type": "code",
   "execution_count": 11,
   "metadata": {},
   "outputs": [],
   "source": [
    "# дропаем"
   ]
  },
  {
   "cell_type": "markdown",
   "metadata": {},
   "source": [
    "## 3 color"
   ]
  },
  {
   "cell_type": "code",
   "execution_count": 12,
   "metadata": {},
   "outputs": [
    {
     "name": "stdout",
     "output_type": "stream",
     "text": [
      "Группировка по значениям:\n",
      "чёрный         30977\n",
      "белый          20426\n",
      "серый          10471\n",
      "серебристый     7889\n",
      "коричневый      6431\n",
      "синий           5867\n",
      "красный         3691\n",
      "Name: color, dtype: int64\n",
      "\n",
      "Нулевые значения\n",
      "False    92015\n",
      "Name: color, dtype: int64\n",
      "\n",
      "Пустых строк нет\n"
     ]
    }
   ],
   "source": [
    "describe_df_collumn(df, 'color')"
   ]
  },
  {
   "cell_type": "code",
   "execution_count": 13,
   "metadata": {},
   "outputs": [
    {
     "data": {
      "text/plain": [
       "2"
      ]
     },
     "execution_count": 13,
     "metadata": {},
     "output_type": "execute_result"
    }
   ],
   "source": [
    "ind = df[ df['color'] == 'Левый'].car_url.index\n",
    "df.drop(ind, inplace=True)\n",
    "len(ind)"
   ]
  },
  {
   "cell_type": "code",
   "execution_count": 14,
   "metadata": {},
   "outputs": [
    {
     "name": "stdout",
     "output_type": "stream",
     "text": [
      "Группировка по значениям:\n",
      "чёрный         30977\n",
      "белый          20426\n",
      "серый          10471\n",
      "серебристый     7889\n",
      "коричневый      6431\n",
      "синий           5867\n",
      "красный         3691\n",
      "Name: color, dtype: int64\n",
      "\n",
      "Нулевые значения\n",
      "False    92013\n",
      "Name: color, dtype: int64\n",
      "\n",
      "Пустых строк нет\n"
     ]
    }
   ],
   "source": [
    "describe_df_collumn(df, 'color')"
   ]
  },
  {
   "cell_type": "markdown",
   "metadata": {},
   "source": [
    "## 4   complectation_dict   "
   ]
  },
  {
   "cell_type": "code",
   "execution_count": 15,
   "metadata": {},
   "outputs": [],
   "source": [
    "# дропаем"
   ]
  },
  {
   "cell_type": "markdown",
   "metadata": {},
   "source": [
    "## 5   description "
   ]
  },
  {
   "cell_type": "code",
   "execution_count": 16,
   "metadata": {},
   "outputs": [],
   "source": [
    "# дропаем"
   ]
  },
  {
   "cell_type": "markdown",
   "metadata": {},
   "source": [
    "## 6 engineDisplacement"
   ]
  },
  {
   "cell_type": "code",
   "execution_count": 17,
   "metadata": {},
   "outputs": [
    {
     "name": "stdout",
     "output_type": "stream",
     "text": [
      "Группировка по значениям:\n",
      "2.0    22788\n",
      "3.0    10760\n",
      "2.5     9802\n",
      "1.6     7996\n",
      "1.8     6579\n",
      "2.4     6364\n",
      "3.5     4509\n",
      "Name: engineDisplacement, dtype: int64\n",
      "\n",
      "Нулевые значения\n",
      "False    92013\n",
      "Name: engineDisplacement, dtype: int64\n",
      "\n",
      "Пустых строк нет\n"
     ]
    }
   ],
   "source": [
    "describe_df_collumn(df, 'engineDisplacement')"
   ]
  },
  {
   "cell_type": "code",
   "execution_count": 18,
   "metadata": {},
   "outputs": [
    {
     "data": {
      "text/plain": [
       "Index(['2.0', '3.0', '2.5', '1.6', '1.8', '2.4', '3.5', '1.4', '5.6', '1.5', '4.5', '3.7', '4.4', '4.7', '5.7', '3.2', '4.6', '2.7', '5.5', '1.2', '4.0', '4.2', '2.8', '5.0', '3.6', '1.3', '2.1', '115 л.', '2.9', '3.8', '150 л.', '3.3', '109 л.', '2.3', '2.2', '6.2', '1.9', '3.4', '6.0', '1.0', '4.8', '1.7', '3.1', '2.6', '0.7', '5.4', '4.3', '4.1', '408 л.', '6.3', '6.6', '4.9', '5.9', '170 л.', '5.2', '5.8', '1.1', '313 л.', '41 л.', '67 л.', '179 л.', '204 л.', '3.9', '184 л.'], dtype='object')"
      ]
     },
     "execution_count": 18,
     "metadata": {},
     "output_type": "execute_result"
    }
   ],
   "source": [
    "df['engineDisplacement'].value_counts().index"
   ]
  },
  {
   "cell_type": "code",
   "execution_count": 19,
   "metadata": {},
   "outputs": [],
   "source": [
    "# df['engineDisplacement'].astype(int)"
   ]
  },
  {
   "cell_type": "code",
   "execution_count": 20,
   "metadata": {},
   "outputs": [
    {
     "data": {
      "text/plain": [
       "738"
      ]
     },
     "execution_count": 20,
     "metadata": {},
     "output_type": "execute_result"
    }
   ],
   "source": [
    "ind =  df[ (df['engineDisplacement'] == '150\\xa0л.')  | \n",
    "           (df['engineDisplacement'] == '109\\xa0л.')  |\n",
    "           (df['engineDisplacement'] == '408\\xa0л.')  |\n",
    "           (df['engineDisplacement'] == '313\\xa0л.')  |\n",
    "           (df['engineDisplacement'] == '67\\xa0л.')   |\n",
    "           (df['engineDisplacement'] == '179\\xa0л.')  |\n",
    "           (df['engineDisplacement'] == '204\\xa0л.')  |\n",
    "           (df['engineDisplacement'] == '170\\xa0л.')  |\n",
    "           (df['engineDisplacement'] == '115\\xa0л.')  |\n",
    "           (df['engineDisplacement'] == '184\\xa0л.')  |\n",
    "           (df['engineDisplacement'] == '7\\xa0л.')    |\n",
    "           (df['engineDisplacement'] == '41\\xa0л.') ].index \n",
    "\n",
    "len(ind)"
   ]
  },
  {
   "cell_type": "code",
   "execution_count": 21,
   "metadata": {},
   "outputs": [
    {
     "data": {
      "text/plain": [
       "Nissan           414\n",
       "Volkswagen       304\n",
       "Audi              12\n",
       "BMW                4\n",
       "Mercedes-Benz      2\n",
       "Mitsubishi         2\n",
       "Name: brand, dtype: int64"
      ]
     },
     "execution_count": 21,
     "metadata": {},
     "output_type": "execute_result"
    }
   ],
   "source": [
    "df[ (df['engineDisplacement'] == '150\\xa0л.')  | \n",
    "           (df['engineDisplacement'] == '109\\xa0л.')  |\n",
    "           (df['engineDisplacement'] == '408\\xa0л.')  |\n",
    "           (df['engineDisplacement'] == '313\\xa0л.')  |\n",
    "           (df['engineDisplacement'] == '67\\xa0л.')   |\n",
    "           (df['engineDisplacement'] == '179\\xa0л.')  |\n",
    "           (df['engineDisplacement'] == '204\\xa0л.')  |\n",
    "           (df['engineDisplacement'] == '170\\xa0л.')  |\n",
    "           (df['engineDisplacement'] == '115\\xa0л.')  |\n",
    "           (df['engineDisplacement'] == '184\\xa0л.')  |\n",
    "           (df['engineDisplacement'] == '7\\xa0л.')    |\n",
    "           (df['engineDisplacement'] == '41\\xa0л.') ].brand.value_counts()"
   ]
  },
  {
   "cell_type": "code",
   "execution_count": 22,
   "metadata": {},
   "outputs": [],
   "source": [
    "df.drop(ind, inplace=True)"
   ]
  },
  {
   "cell_type": "code",
   "execution_count": 23,
   "metadata": {},
   "outputs": [
    {
     "name": "stdout",
     "output_type": "stream",
     "text": [
      "Группировка по значениям:\n",
      "2.0    22788\n",
      "3.0    10760\n",
      "2.5     9802\n",
      "1.6     7996\n",
      "1.8     6579\n",
      "2.4     6364\n",
      "3.5     4509\n",
      "Name: engineDisplacement, dtype: int64\n",
      "\n",
      "Нулевые значения\n",
      "False    91275\n",
      "Name: engineDisplacement, dtype: int64\n",
      "\n",
      "Пустых строк нет\n"
     ]
    }
   ],
   "source": [
    "describe_df_collumn(df, 'engineDisplacement')"
   ]
  },
  {
   "cell_type": "markdown",
   "metadata": {},
   "source": [
    "## 7 enginePower"
   ]
  },
  {
   "cell_type": "code",
   "execution_count": 24,
   "metadata": {},
   "outputs": [
    {
     "name": "stdout",
     "output_type": "stream",
     "text": [
      "Группировка по значениям:\n",
      "150    5221\n",
      "249    4528\n",
      "140    2728\n",
      "180    2500\n",
      "190    2434\n",
      "184    2375\n",
      "152    2245\n",
      "Name: enginePower, dtype: int64\n",
      "\n",
      "Нулевые значения\n",
      "False    91275\n",
      "Name: enginePower, dtype: int64\n",
      "\n",
      "Пустых строк нет\n"
     ]
    }
   ],
   "source": [
    "describe_df_collumn(df, 'enginePower')"
   ]
  },
  {
   "cell_type": "code",
   "execution_count": 25,
   "metadata": {},
   "outputs": [],
   "source": [
    "df['enginePower'] =df['enginePower'].apply(get_int_cnt)"
   ]
  },
  {
   "cell_type": "code",
   "execution_count": 26,
   "metadata": {},
   "outputs": [
    {
     "data": {
      "text/plain": [
       "Series([], Name: enginePower, dtype: int64)"
      ]
     },
     "execution_count": 26,
     "metadata": {},
     "output_type": "execute_result"
    }
   ],
   "source": [
    "df[df['enginePower'] == 'отсутствует'].enginePower.value_counts()"
   ]
  },
  {
   "cell_type": "code",
   "execution_count": 27,
   "metadata": {},
   "outputs": [
    {
     "data": {
      "text/plain": [
       "0        180\n",
       "1        133\n",
       "2        249\n",
       "3        150\n",
       "4        180\n",
       "        ... \n",
       "92025    235\n",
       "92026    190\n",
       "92027    210\n",
       "92028    210\n",
       "92029    249\n",
       "Name: enginePower, Length: 91275, dtype: int32"
      ]
     },
     "execution_count": 27,
     "metadata": {},
     "output_type": "execute_result"
    }
   ],
   "source": [
    "df['enginePower'].astype(int)"
   ]
  },
  {
   "cell_type": "code",
   "execution_count": 28,
   "metadata": {},
   "outputs": [
    {
     "name": "stdout",
     "output_type": "stream",
     "text": [
      "Группировка по значениям:\n",
      "249    5644\n",
      "150    5575\n",
      "180    2968\n",
      "190    2793\n",
      "140    2763\n",
      "184    2492\n",
      "211    2391\n",
      "Name: enginePower, dtype: int64\n",
      "\n",
      "Нулевые значения\n",
      "False    91275\n",
      "Name: enginePower, dtype: int64\n",
      "\n",
      "Пустых строк нет\n"
     ]
    }
   ],
   "source": [
    "describe_df_collumn(df, 'enginePower')"
   ]
  },
  {
   "cell_type": "markdown",
   "metadata": {},
   "source": [
    "## 8 equipment_dict                   "
   ]
  },
  {
   "cell_type": "code",
   "execution_count": 29,
   "metadata": {},
   "outputs": [],
   "source": [
    "# дропаем"
   ]
  },
  {
   "cell_type": "markdown",
   "metadata": {},
   "source": [
    "## 9   fuelType              "
   ]
  },
  {
   "cell_type": "code",
   "execution_count": 30,
   "metadata": {},
   "outputs": [
    {
     "name": "stdout",
     "output_type": "stream",
     "text": [
      "Группировка по значениям:\n",
      "Бензин                                72273\n",
      "Дизель                                17810\n",
      "Гибрид                                  648\n",
      "Бензин, газобаллонное оборудование      535\n",
      "Газ                                       5\n",
      "Дизель, газобаллонное оборудование        2\n",
      "Гибрид, газобаллонное оборудование        1\n",
      "Name: fuelType, dtype: int64\n",
      "\n",
      "Нулевые значения\n",
      "False    91275\n",
      "Name: fuelType, dtype: int64\n",
      "\n",
      "Пустых строк нет\n"
     ]
    }
   ],
   "source": [
    "describe_df_collumn(df, 'fuelType')"
   ]
  },
  {
   "cell_type": "code",
   "execution_count": 31,
   "metadata": {},
   "outputs": [],
   "source": [
    "df['fuelType'] = df['fuelType'].apply(lambda x: x.lower())"
   ]
  },
  {
   "cell_type": "code",
   "execution_count": 32,
   "metadata": {},
   "outputs": [],
   "source": [
    "# бензин     28601\n",
    "# дизель      5800\n",
    "# гибрид       223\n",
    "# электро       55\n",
    "# газ            7"
   ]
  },
  {
   "cell_type": "code",
   "execution_count": 33,
   "metadata": {},
   "outputs": [],
   "source": [
    "def get_fuelType(f_type):\n",
    "    if f_type == 'бензин, газобаллонное оборудование':\n",
    "        return 'гибрид'\n",
    "    if f_type == 'газ, газобаллонное оборудование':\n",
    "        return 'газ'\n",
    "    else:\n",
    "        return f_type"
   ]
  },
  {
   "cell_type": "code",
   "execution_count": 34,
   "metadata": {},
   "outputs": [],
   "source": [
    "df['fuelType'] = df['fuelType'].apply(get_fuelType)"
   ]
  },
  {
   "cell_type": "code",
   "execution_count": 35,
   "metadata": {},
   "outputs": [
    {
     "data": {
      "text/plain": [
       "3"
      ]
     },
     "execution_count": 35,
     "metadata": {},
     "output_type": "execute_result"
    }
   ],
   "source": [
    "ind =  df[ (df['fuelType'] == 'дизель, газобаллонное оборудование')  | \n",
    "           (df['fuelType'] == 'гибрид, газобаллонное оборудование')  |\n",
    "           (df['fuelType'] == 'отсутствует')  |\n",
    "           (df['fuelType'] == 'газ, газобаллонное оборудование')  ].index \n",
    "df.drop(ind, inplace=True)\n",
    "len(ind)"
   ]
  },
  {
   "cell_type": "code",
   "execution_count": 36,
   "metadata": {},
   "outputs": [
    {
     "name": "stdout",
     "output_type": "stream",
     "text": [
      "Группировка по значениям:\n",
      "бензин    72273\n",
      "дизель    17810\n",
      "гибрид     1183\n",
      "газ           6\n",
      "Name: fuelType, dtype: int64\n",
      "\n",
      "Нулевые значения\n",
      "False    91272\n",
      "Name: fuelType, dtype: int64\n",
      "\n",
      "Пустых строк нет\n"
     ]
    }
   ],
   "source": [
    "describe_df_collumn(df, 'fuelType')"
   ]
  },
  {
   "cell_type": "markdown",
   "metadata": {},
   "source": [
    "## 10  image   "
   ]
  },
  {
   "cell_type": "code",
   "execution_count": 37,
   "metadata": {},
   "outputs": [],
   "source": [
    "# дропаем"
   ]
  },
  {
   "cell_type": "markdown",
   "metadata": {},
   "source": [
    "## 11 mileage"
   ]
  },
  {
   "cell_type": "code",
   "execution_count": 38,
   "metadata": {},
   "outputs": [
    {
     "name": "stdout",
     "output_type": "stream",
     "text": [
      "Группировка по значениям:\n",
      "117 000 км    838\n",
      "125 000 км    827\n",
      "93 000 км     656\n",
      "140 000 км    635\n",
      "120 000 км    597\n",
      "185 000 км    572\n",
      "65 000 км     544\n",
      "Name: mileage, dtype: int64\n",
      "\n",
      "Нулевые значения\n",
      "False    91272\n",
      "Name: mileage, dtype: int64\n",
      "\n",
      "Пустых строк нет\n"
     ]
    }
   ],
   "source": [
    "describe_df_collumn(df, 'mileage')"
   ]
  },
  {
   "cell_type": "code",
   "execution_count": 39,
   "metadata": {},
   "outputs": [
    {
     "data": {
      "text/plain": [
       "0"
      ]
     },
     "execution_count": 39,
     "metadata": {},
     "output_type": "execute_result"
    }
   ],
   "source": [
    "ind = df[df['mileage'] == 'отсутствует'].index\n",
    "df.drop(ind, inplace=True)\n",
    "len(ind)"
   ]
  },
  {
   "cell_type": "code",
   "execution_count": 40,
   "metadata": {},
   "outputs": [
    {
     "data": {
      "text/plain": [
       "'350\\xa0000\\xa0км'"
      ]
     },
     "execution_count": 40,
     "metadata": {},
     "output_type": "execute_result"
    }
   ],
   "source": [
    "df.mileage[1]"
   ]
  },
  {
   "cell_type": "code",
   "execution_count": 41,
   "metadata": {},
   "outputs": [],
   "source": [
    "def get_mileage(x):\n",
    "    '''Форматирование цены'''\n",
    "    x = str(x)\n",
    "    if 'км' in x:\n",
    "        x = x.strip('км')\n",
    "    if '\\xa0' in x:\n",
    "        x = x.split('\\xa0')\n",
    "        x = ''.join(x)\n",
    "    return int(x)"
   ]
  },
  {
   "cell_type": "code",
   "execution_count": 42,
   "metadata": {},
   "outputs": [],
   "source": [
    "df['mileage'] = df['mileage'].apply(get_mileage)"
   ]
  },
  {
   "cell_type": "code",
   "execution_count": 43,
   "metadata": {},
   "outputs": [
    {
     "data": {
      "text/plain": [
       "91272"
      ]
     },
     "execution_count": 43,
     "metadata": {},
     "output_type": "execute_result"
    }
   ],
   "source": [
    "df['mileage'].isna().count()"
   ]
  },
  {
   "cell_type": "markdown",
   "metadata": {},
   "source": [
    "## 12 modelDate"
   ]
  },
  {
   "cell_type": "code",
   "execution_count": 44,
   "metadata": {},
   "outputs": [
    {
     "data": {
      "text/plain": [
       "0        отсутствует\n",
       "1        отсутствует\n",
       "2        отсутствует\n",
       "3        отсутствует\n",
       "4        отсутствует\n",
       "            ...     \n",
       "92025    отсутствует\n",
       "92026    отсутствует\n",
       "92027    отсутствует\n",
       "92028    отсутствует\n",
       "92029    отсутствует\n",
       "Name: modelDate, Length: 91272, dtype: object"
      ]
     },
     "execution_count": 44,
     "metadata": {},
     "output_type": "execute_result"
    }
   ],
   "source": [
    "df.modelDate  \n",
    "# дропнем это поле"
   ]
  },
  {
   "cell_type": "markdown",
   "metadata": {},
   "source": [
    "## 13 model_info"
   ]
  },
  {
   "cell_type": "code",
   "execution_count": 45,
   "metadata": {},
   "outputs": [
    {
     "data": {
      "text/plain": [
       "0        отсутствует\n",
       "1        отсутствует\n",
       "2        отсутствует\n",
       "3        отсутствует\n",
       "4        отсутствует\n",
       "            ...     \n",
       "92025    отсутствует\n",
       "92026    отсутствует\n",
       "92027    отсутствует\n",
       "92028    отсутствует\n",
       "92029    отсутствует\n",
       "Name: model_info, Length: 91272, dtype: object"
      ]
     },
     "execution_count": 45,
     "metadata": {},
     "output_type": "execute_result"
    }
   ],
   "source": [
    "df.model_info\n",
    "# дропнем это поле"
   ]
  },
  {
   "cell_type": "markdown",
   "metadata": {},
   "source": [
    "## 14 model_name"
   ]
  },
  {
   "cell_type": "code",
   "execution_count": 46,
   "metadata": {},
   "outputs": [
    {
     "name": "stdout",
     "output_type": "stream",
     "text": [
      "Группировка по значениям:\n",
      "Octavia       3081\n",
      "CR-V          2393\n",
      "XC90          2290\n",
      "Outlander     2138\n",
      "Camry         1771\n",
      "X-Trail       1668\n",
      "Q5            1612\n",
      "Name: model_name, dtype: int64\n",
      "\n",
      "Нулевые значения\n",
      "False    91272\n",
      "Name: model_name, dtype: int64\n",
      "\n",
      "Пустых строк нет\n"
     ]
    }
   ],
   "source": [
    "describe_df_collumn(df, 'model_name')"
   ]
  },
  {
   "cell_type": "code",
   "execution_count": 47,
   "metadata": {},
   "outputs": [
    {
     "data": {
      "text/plain": [
       "3 серии                   1392\n",
       "5 серии                   1141\n",
       "1 серии                    620\n",
       "7 серии                    394\n",
       "6 серии                    225\n",
       "4 серии                    184\n",
       "8 серии                     14\n",
       "2 серии                     12\n",
       "2 серии Gran Tourer          7\n",
       "2 серии Active Tourer        5\n",
       "Name: model_name, dtype: int64"
      ]
     },
     "execution_count": 47,
     "metadata": {},
     "output_type": "execute_result"
    }
   ],
   "source": [
    "df[df['model_name'].str.contains('серии', case=False)].model_name.value_counts()"
   ]
  },
  {
   "cell_type": "code",
   "execution_count": 48,
   "metadata": {},
   "outputs": [],
   "source": [
    "df['model_name'] = df['model_name'].apply(lambda x: x.upper())"
   ]
  },
  {
   "cell_type": "code",
   "execution_count": 49,
   "metadata": {},
   "outputs": [],
   "source": [
    "def change_seria(model_name):\n",
    "    if '3 СЕРИИ' in model_name:\n",
    "        return '3ER'\n",
    "    if '5 СЕРИИ' in model_name:\n",
    "        return '5ER'\n",
    "    if '1 СЕРИИ' in model_name:\n",
    "        return '1ER'\n",
    "    if '7 СЕРИИ' in model_name:\n",
    "        return '7ER'\n",
    "    if '6 СЕРИИ' in model_name:\n",
    "        return '6ER'\n",
    "    if '4 СЕРИИ' in model_name:\n",
    "        return '4ER'\n",
    "    if '8 СЕРИИ' in model_name:\n",
    "        return '8ER'\n",
    "    if '2 СЕРИИ' in model_name:\n",
    "        return '2ER'\n",
    "    if '2 СЕРИИ GRAN TOURER' in model_name:\n",
    "        return '2ER'\n",
    "    if '2 СЕРИИ ACTIVE TOURER' in model_name:\n",
    "        return '2ER'\n",
    "    if '-' in model_name:\n",
    "        return model_name.replace('-','_')\n",
    "    return model_name"
   ]
  },
  {
   "cell_type": "code",
   "execution_count": 50,
   "metadata": {},
   "outputs": [],
   "source": [
    "df['model_name'] = df['model_name'].apply(change_seria)"
   ]
  },
  {
   "cell_type": "code",
   "execution_count": 51,
   "metadata": {},
   "outputs": [
    {
     "data": {
      "text/plain": [
       "0"
      ]
     },
     "execution_count": 51,
     "metadata": {},
     "output_type": "execute_result"
    }
   ],
   "source": [
    "len(df[df['model_name'].str.contains('серии', case=False)])"
   ]
  },
  {
   "cell_type": "code",
   "execution_count": 52,
   "metadata": {},
   "outputs": [
    {
     "name": "stdout",
     "output_type": "stream",
     "text": [
      "Группировка по значениям:\n",
      "OCTAVIA       3081\n",
      "CR_V          2393\n",
      "XC90          2290\n",
      "OUTLANDER     2138\n",
      "CAMRY         1771\n",
      "X_TRAIL       1668\n",
      "Q5            1612\n",
      "Name: model_name, dtype: int64\n",
      "\n",
      "Нулевые значения\n",
      "False    91272\n",
      "Name: model_name, dtype: int64\n",
      "\n",
      "Пустых строк нет\n"
     ]
    }
   ],
   "source": [
    "describe_df_collumn(df, 'model_name')"
   ]
  },
  {
   "cell_type": "markdown",
   "metadata": {},
   "source": [
    "## 15  name"
   ]
  },
  {
   "cell_type": "code",
   "execution_count": 53,
   "metadata": {},
   "outputs": [
    {
     "name": "stdout",
     "output_type": "stream",
     "text": [
      "Группировка по значениям:\n",
      "5.6 AT (405 л.с.) 4WD         1714\n",
      "2.5 AT (210 л.с.) 4WD         1560\n",
      "1.6 AT (110 л.с.)             1379\n",
      "2.5 AT (181 л.с.)             1184\n",
      "2.0 CVT (146 л.с.) 4WD        1042\n",
      "570 5.7 AT (367 л.с.) 4WD     1021\n",
      "1.8 AMT (180 л.с.)             937\n",
      "Name: name, dtype: int64\n",
      "\n",
      "Нулевые значения\n",
      "False    91272\n",
      "Name: name, dtype: int64\n",
      "\n",
      "Пустых строк нет\n"
     ]
    }
   ],
   "source": [
    "describe_df_collumn(df, 'name')"
   ]
  },
  {
   "cell_type": "code",
   "execution_count": 54,
   "metadata": {},
   "outputs": [
    {
     "data": {
      "text/plain": [
       "US Market 2.4 AT (162 л.с.)        1\n",
       "2.2 AT (140 л.с.)                  1\n",
       "Spada 1.5 CVT (150 л.с.) 4WD       1\n",
       "3.5 AT (268 л.с.)                  1\n",
       "2.5 AT (186 л.с.) 4WD              1\n",
       "G35 3.5 MT (260 л.с.)              1\n",
       "2.0d AT (72 л.с.)                  1\n",
       "1.8 MT (90 л.с.) 4WD               1\n",
       "2.8d MT (115 л.с.) 4WD             1\n",
       "1.6 AT (109 л.с.)                  1\n",
       "Japan Market 2.0 AT (148 л.с.)     1\n",
       "1.4d MT (79 л.с.)                  1\n",
       "3.0 MT (149 л.с.) 4WD              1\n",
       "2.5d AT (180 л.с.)                 1\n",
       "1.6 AT (72 л.с.)                   1\n",
       "435i 3.0 AT (306 л.с.)             1\n",
       "280 2.8 AT (156 л.с.) 4WD          1\n",
       "218d 2.0d AT (150 л.с.)            1\n",
       "220 SE 2.2 MT (120 л.с.)           1\n",
       "2.5 AT (222 л.с.)                  1\n",
       "Name: name, dtype: int64"
      ]
     },
     "execution_count": 54,
     "metadata": {},
     "output_type": "execute_result"
    }
   ],
   "source": [
    "df['name'].value_counts().tail(20)"
   ]
  },
  {
   "cell_type": "code",
   "execution_count": 55,
   "metadata": {},
   "outputs": [
    {
     "data": {
      "text/plain": [
       "Series([], dtype: int64)"
      ]
     },
     "execution_count": 55,
     "metadata": {},
     "output_type": "execute_result"
    }
   ],
   "source": [
    "df[df['name'] == '570 5.7 AT (367 л.с.) 4WD'].value_counts()"
   ]
  },
  {
   "cell_type": "markdown",
   "metadata": {},
   "source": [
    "## 16 numberOfDoors"
   ]
  },
  {
   "cell_type": "code",
   "execution_count": 56,
   "metadata": {},
   "outputs": [
    {
     "data": {
      "text/plain": [
       "отсутствует    91272\n",
       "Name: numberOfDoors, dtype: int64"
      ]
     },
     "execution_count": 56,
     "metadata": {},
     "output_type": "execute_result"
    }
   ],
   "source": [
    "df['numberOfDoors'].value_counts()"
   ]
  },
  {
   "cell_type": "code",
   "execution_count": 57,
   "metadata": {},
   "outputs": [],
   "source": [
    "# Предобработка\n",
    "\n",
    "def get_doors_cnt(x):\n",
    "    '''Определяет количество дверей по типу кузова'''\n",
    "    if x in ['внедорожник 5 дв.', 'хэтчбек 5 дв.', 'универсал 5 дв.', 'микровэн']:\n",
    "        return '5.0'\n",
    "    if x in ['седан', 'лифтбек', 'минивэн', 'компактвэн', 'пикап двойная кабина', 'седан-хардтоп', 'лимузин'] :\n",
    "        return '4.0'\n",
    "    if x in ['хэтчбек 3 дв.', 'внедорожник открытый', 'фастбек', 'фургон', 'внедорожник 3 дв.', 'универсал 3 дв.' ]:\n",
    "        return '3.0'\n",
    "    if x in ['купе', 'купе-хардтоп', 'кабриолет', 'родстер', 'седан 2 дв.', 'тарга' , 'пикап полуторная кабина', 'пикап одинарная кабина']:\n",
    "        return '2.0'\n",
    "    return 33"
   ]
  },
  {
   "cell_type": "code",
   "execution_count": 58,
   "metadata": {},
   "outputs": [],
   "source": [
    "df['numberOfDoors'] = df['bodyType'].apply(get_doors_cnt)"
   ]
  },
  {
   "cell_type": "code",
   "execution_count": 59,
   "metadata": {},
   "outputs": [],
   "source": [
    "df['numberOfDoors'] = df['numberOfDoors'].apply(get_int_cnt)"
   ]
  },
  {
   "cell_type": "code",
   "execution_count": 60,
   "metadata": {},
   "outputs": [
    {
     "data": {
      "text/plain": [
       "5    55187\n",
       "4    33162\n",
       "2     1578\n",
       "3     1345\n",
       "Name: numberOfDoors, dtype: int64"
      ]
     },
     "execution_count": 60,
     "metadata": {},
     "output_type": "execute_result"
    }
   ],
   "source": [
    "df['numberOfDoors'].value_counts()"
   ]
  },
  {
   "cell_type": "code",
   "execution_count": 61,
   "metadata": {},
   "outputs": [
    {
     "data": {
      "text/plain": [
       "0        4\n",
       "1        4\n",
       "2        5\n",
       "3        4\n",
       "4        5\n",
       "        ..\n",
       "92025    4\n",
       "92026    5\n",
       "92027    5\n",
       "92028    5\n",
       "92029    5\n",
       "Name: numberOfDoors, Length: 91272, dtype: int32"
      ]
     },
     "execution_count": 61,
     "metadata": {},
     "output_type": "execute_result"
    }
   ],
   "source": [
    "df['numberOfDoors'].astype(int)"
   ]
  },
  {
   "cell_type": "code",
   "execution_count": 62,
   "metadata": {},
   "outputs": [
    {
     "name": "stdout",
     "output_type": "stream",
     "text": [
      "Группировка по значениям:\n",
      "5    55187\n",
      "4    33162\n",
      "2     1578\n",
      "3     1345\n",
      "Name: numberOfDoors, dtype: int64\n",
      "\n",
      "Нулевые значения\n",
      "False    91272\n",
      "Name: numberOfDoors, dtype: int64\n",
      "\n",
      "Пустых строк нет\n"
     ]
    }
   ],
   "source": [
    "describe_df_collumn(df, 'numberOfDoors')"
   ]
  },
  {
   "cell_type": "markdown",
   "metadata": {},
   "source": [
    "## 17 parsing_unixtime"
   ]
  },
  {
   "cell_type": "code",
   "execution_count": 63,
   "metadata": {},
   "outputs": [],
   "source": [
    "# дропаем"
   ]
  },
  {
   "cell_type": "markdown",
   "metadata": {},
   "source": [
    "## 18 priceCurrency"
   ]
  },
  {
   "cell_type": "code",
   "execution_count": 64,
   "metadata": {},
   "outputs": [],
   "source": [
    "# дропаем"
   ]
  },
  {
   "cell_type": "markdown",
   "metadata": {},
   "source": [
    "## 19 productionDate"
   ]
  },
  {
   "cell_type": "code",
   "execution_count": 65,
   "metadata": {},
   "outputs": [
    {
     "name": "stdout",
     "output_type": "stream",
     "text": [
      "Группировка по значениям:\n",
      "2013    8233\n",
      "2014    7611\n",
      "2012    7127\n",
      "2011    6719\n",
      "2015    6608\n",
      "2018    5776\n",
      "2008    5609\n",
      "Name: productionDate, dtype: int64\n",
      "\n",
      "Нулевые значения\n",
      "False    91272\n",
      "Name: productionDate, dtype: int64\n",
      "\n",
      "Пустых строк нет\n"
     ]
    }
   ],
   "source": [
    "describe_df_collumn(df, 'productionDate')"
   ]
  },
  {
   "cell_type": "code",
   "execution_count": 66,
   "metadata": {},
   "outputs": [
    {
     "data": {
      "text/plain": [
       "2013      8233\n",
       "2014      7611\n",
       "2012      7127\n",
       "2011      6719\n",
       "2015      6608\n",
       "          ... \n",
       "1947         1\n",
       "1980.0       1\n",
       "1950         1\n",
       "1938.0       1\n",
       "1972         1\n",
       "Name: productionDate, Length: 109, dtype: int64"
      ]
     },
     "execution_count": 66,
     "metadata": {},
     "output_type": "execute_result"
    }
   ],
   "source": [
    "df.productionDate.value_counts().sort_values(ascending=False)"
   ]
  },
  {
   "cell_type": "code",
   "execution_count": 67,
   "metadata": {},
   "outputs": [],
   "source": [
    "df['productionDate'] = df['productionDate'].apply(get_int_cnt)"
   ]
  },
  {
   "cell_type": "code",
   "execution_count": 68,
   "metadata": {},
   "outputs": [
    {
     "name": "stdout",
     "output_type": "stream",
     "text": [
      "Группировка по значениям:\n",
      "2013    9143\n",
      "2014    8235\n",
      "2012    7997\n",
      "2015    7646\n",
      "2011    7596\n",
      "2018    6169\n",
      "2008    5882\n",
      "Name: productionDate, dtype: int64\n",
      "\n",
      "Нулевые значения\n",
      "False    91272\n",
      "Name: productionDate, dtype: int64\n",
      "\n",
      "Пустых строк нет\n"
     ]
    }
   ],
   "source": [
    "describe_df_collumn(df, 'productionDate')"
   ]
  },
  {
   "cell_type": "markdown",
   "metadata": {},
   "source": [
    "## 20 sell_id "
   ]
  },
  {
   "cell_type": "code",
   "execution_count": 69,
   "metadata": {},
   "outputs": [],
   "source": [
    "# дропаем"
   ]
  },
  {
   "cell_type": "markdown",
   "metadata": {},
   "source": [
    "## 21 super_gen"
   ]
  },
  {
   "cell_type": "code",
   "execution_count": 70,
   "metadata": {},
   "outputs": [],
   "source": [
    "# дропаем"
   ]
  },
  {
   "cell_type": "markdown",
   "metadata": {},
   "source": [
    "## 22 vehicleConfiguration"
   ]
  },
  {
   "cell_type": "code",
   "execution_count": 71,
   "metadata": {},
   "outputs": [],
   "source": [
    "# дропаем"
   ]
  },
  {
   "cell_type": "markdown",
   "metadata": {},
   "source": [
    "## 23 vehicleTransmission"
   ]
  },
  {
   "cell_type": "code",
   "execution_count": 72,
   "metadata": {},
   "outputs": [
    {
     "name": "stdout",
     "output_type": "stream",
     "text": [
      "Группировка по значениям:\n",
      "автоматическая      58661\n",
      "роботизированная    12506\n",
      "механическая        10266\n",
      "вариатор             9839\n",
      "Name: vehicleTransmission, dtype: int64\n",
      "\n",
      "Нулевые значения\n",
      "False    91272\n",
      "Name: vehicleTransmission, dtype: int64\n",
      "\n",
      "Пустых строк нет\n"
     ]
    }
   ],
   "source": [
    "describe_df_collumn(df, 'vehicleTransmission')"
   ]
  },
  {
   "cell_type": "markdown",
   "metadata": {},
   "source": [
    "## 24 vendor"
   ]
  },
  {
   "cell_type": "code",
   "execution_count": 73,
   "metadata": {},
   "outputs": [],
   "source": [
    "# дропаем"
   ]
  },
  {
   "cell_type": "markdown",
   "metadata": {},
   "source": [
    "## 25 Владельцы"
   ]
  },
  {
   "cell_type": "code",
   "execution_count": 74,
   "metadata": {},
   "outputs": [
    {
     "name": "stdout",
     "output_type": "stream",
     "text": [
      "Группировка по значениям:\n",
      "3 или более    34347\n",
      "1 владелец     32331\n",
      "2 владельца    24592\n",
      "отсутствует        2\n",
      "Name: Владельцы, dtype: int64\n",
      "\n",
      "Нулевые значения\n",
      "False    91272\n",
      "Name: Владельцы, dtype: int64\n",
      "\n",
      "Удалено пустых 2 строк\n"
     ]
    }
   ],
   "source": [
    "describe_df_collumn(df, 'Владельцы')"
   ]
  },
  {
   "cell_type": "code",
   "execution_count": 75,
   "metadata": {},
   "outputs": [
    {
     "name": "stdout",
     "output_type": "stream",
     "text": [
      "Группировка по значениям:\n",
      "3 или более    34347\n",
      "1 владелец     32331\n",
      "2 владельца    24592\n",
      "Name: Владельцы, dtype: int64\n",
      "\n",
      "Нулевые значения\n",
      "False    91270\n",
      "Name: Владельцы, dtype: int64\n",
      "\n",
      "Пустых строк нет\n"
     ]
    }
   ],
   "source": [
    "describe_df_collumn(df, 'Владельцы')"
   ]
  },
  {
   "cell_type": "markdown",
   "metadata": {},
   "source": [
    "## 26 Владение "
   ]
  },
  {
   "cell_type": "code",
   "execution_count": 76,
   "metadata": {},
   "outputs": [],
   "source": [
    "# дропаем"
   ]
  },
  {
   "cell_type": "code",
   "execution_count": 77,
   "metadata": {},
   "outputs": [
    {
     "data": {
      "text/plain": [
       "отсутствует            78368\n",
       "1 год и 1 месяц          333\n",
       "7 лет и 3 месяца         330\n",
       "1 год и 3 месяца         327\n",
       "2 года и 3 месяца        313\n",
       "                       ...  \n",
       "13 лет и 8 месяцев         1\n",
       "17 лет                     1\n",
       "25 лет и 5 месяцев         1\n",
       "22 года и 7 месяцев        1\n",
       "23 года и 5 месяцев        1\n",
       "Name: Владение, Length: 246, dtype: int64"
      ]
     },
     "execution_count": 77,
     "metadata": {},
     "output_type": "execute_result"
    }
   ],
   "source": [
    "df['Владение'].value_counts()"
   ]
  },
  {
   "cell_type": "code",
   "execution_count": 78,
   "metadata": {},
   "outputs": [
    {
     "data": {
      "text/plain": [
       "78368"
      ]
     },
     "execution_count": 78,
     "metadata": {},
     "output_type": "execute_result"
    }
   ],
   "source": [
    "ind = df[df['Владение'] == 'отсутствует'].index\n",
    "# df.drop(ind, inplace=True)\n",
    "len(ind)"
   ]
  },
  {
   "cell_type": "code",
   "execution_count": 79,
   "metadata": {},
   "outputs": [
    {
     "data": {
      "text/plain": [
       "False    91270\n",
       "Name: Владение, dtype: int64"
      ]
     },
     "execution_count": 79,
     "metadata": {},
     "output_type": "execute_result"
    }
   ],
   "source": [
    "df['Владение'].isna().value_counts()"
   ]
  },
  {
   "cell_type": "markdown",
   "metadata": {},
   "source": [
    "## 27 ПТС"
   ]
  },
  {
   "cell_type": "code",
   "execution_count": 80,
   "metadata": {},
   "outputs": [
    {
     "name": "stdout",
     "output_type": "stream",
     "text": [
      "Группировка по значениям:\n",
      "Оригинал    83002\n",
      "Дубликат     8268\n",
      "Name: ПТС, dtype: int64\n",
      "\n",
      "Нулевые значения\n",
      "False    91270\n",
      "Name: ПТС, dtype: int64\n",
      "\n",
      "Пустых строк нет\n"
     ]
    }
   ],
   "source": [
    "describe_df_collumn(df, 'ПТС')"
   ]
  },
  {
   "cell_type": "markdown",
   "metadata": {},
   "source": [
    "## 28 Привод"
   ]
  },
  {
   "cell_type": "code",
   "execution_count": 81,
   "metadata": {},
   "outputs": [
    {
     "name": "stdout",
     "output_type": "stream",
     "text": [
      "Группировка по значениям:\n",
      "полный      53710\n",
      "передний    30051\n",
      "задний       7509\n",
      "Name: Привод, dtype: int64\n",
      "\n",
      "Нулевые значения\n",
      "False    91270\n",
      "Name: Привод, dtype: int64\n",
      "\n",
      "Пустых строк нет\n"
     ]
    }
   ],
   "source": [
    "describe_df_collumn(df, 'Привод')"
   ]
  },
  {
   "cell_type": "markdown",
   "metadata": {},
   "source": [
    "## 29 Руль"
   ]
  },
  {
   "cell_type": "code",
   "execution_count": 82,
   "metadata": {},
   "outputs": [
    {
     "name": "stdout",
     "output_type": "stream",
     "text": [
      "Группировка по значениям:\n",
      "Левый     90110\n",
      "Правый     1160\n",
      "Name: Руль, dtype: int64\n",
      "\n",
      "Нулевые значения\n",
      "False    91270\n",
      "Name: Руль, dtype: int64\n",
      "\n",
      "Пустых строк нет\n"
     ]
    }
   ],
   "source": [
    "describe_df_collumn(df, 'Руль')"
   ]
  },
  {
   "cell_type": "markdown",
   "metadata": {},
   "source": [
    "## 30 Состояние"
   ]
  },
  {
   "cell_type": "code",
   "execution_count": 83,
   "metadata": {},
   "outputs": [],
   "source": [
    "# дропаем"
   ]
  },
  {
   "cell_type": "markdown",
   "metadata": {},
   "source": [
    "## 31 Таможня"
   ]
  },
  {
   "cell_type": "code",
   "execution_count": 84,
   "metadata": {},
   "outputs": [
    {
     "name": "stdout",
     "output_type": "stream",
     "text": [
      "Группировка по значениям:\n",
      "Растаможен    91270\n",
      "Name: Таможня, dtype: int64\n",
      "\n",
      "Нулевые значения\n",
      "False    91270\n",
      "Name: Таможня, dtype: int64\n",
      "\n",
      "Пустых строк нет\n"
     ]
    }
   ],
   "source": [
    "describe_df_collumn(df, 'Таможня')"
   ]
  },
  {
   "cell_type": "code",
   "execution_count": 85,
   "metadata": {},
   "outputs": [],
   "source": [
    "#дропаем"
   ]
  },
  {
   "cell_type": "markdown",
   "metadata": {},
   "source": [
    "## 32 price"
   ]
  },
  {
   "cell_type": "code",
   "execution_count": 86,
   "metadata": {},
   "outputs": [
    {
     "name": "stdout",
     "output_type": "stream",
     "text": [
      "Группировка по значениям:\n",
      "отсутствует     1926\n",
      "1 350 000 ₽      715\n",
      "1 499 000 ₽      508\n",
      "699 000 ₽        501\n",
      "899 000 ₽        497\n",
      "от 895 000 ₽     464\n",
      "559 000 ₽        461\n",
      "Name: price, dtype: int64\n",
      "\n",
      "Нулевые значения\n",
      "False    91270\n",
      "Name: price, dtype: int64\n",
      "\n",
      "Удалено пустых 1926 строк\n"
     ]
    }
   ],
   "source": [
    "describe_df_collumn(df, 'price')"
   ]
  },
  {
   "cell_type": "code",
   "execution_count": 87,
   "metadata": {},
   "outputs": [],
   "source": [
    "def get_correct_price(x):\n",
    "    '''Форматирование цены'''\n",
    "    x = str(x).strip('от₽')\n",
    "    x = x.split('\\xa0')\n",
    "    x = ''.join(x)\n",
    "    return int(x)"
   ]
  },
  {
   "cell_type": "code",
   "execution_count": 88,
   "metadata": {},
   "outputs": [
    {
     "data": {
      "text/plain": [
       "0          от 895 000 ₽\n",
       "1             145 000 ₽\n",
       "2           3 850 000 ₽\n",
       "3           1 379 000 ₽\n",
       "4           1 650 000 ₽\n",
       "              ...      \n",
       "92025       2 420 000 ₽\n",
       "92026       1 559 259 ₽\n",
       "92027         925 000 ₽\n",
       "92028      от 975 000 ₽\n",
       "92029    от 3 400 000 ₽\n",
       "Name: price, Length: 89344, dtype: object"
      ]
     },
     "execution_count": 88,
     "metadata": {},
     "output_type": "execute_result"
    }
   ],
   "source": [
    "df['price']"
   ]
  },
  {
   "cell_type": "code",
   "execution_count": 89,
   "metadata": {},
   "outputs": [],
   "source": [
    "df['price'] = df['price'].apply(get_correct_price)"
   ]
  },
  {
   "cell_type": "code",
   "execution_count": 90,
   "metadata": {},
   "outputs": [
    {
     "data": {
      "text/plain": [
       "0         895000\n",
       "1         145000\n",
       "2        3850000\n",
       "3        1379000\n",
       "4        1650000\n",
       "          ...   \n",
       "92025    2420000\n",
       "92026    1559259\n",
       "92027     925000\n",
       "92028     975000\n",
       "92029    3400000\n",
       "Name: price, Length: 89344, dtype: int32"
      ]
     },
     "execution_count": 90,
     "metadata": {},
     "output_type": "execute_result"
    }
   ],
   "source": [
    "df['price'] = df['price'].astype(int)\n",
    "df['price']"
   ]
  },
  {
   "cell_type": "code",
   "execution_count": 91,
   "metadata": {},
   "outputs": [
    {
     "name": "stdout",
     "output_type": "stream",
     "text": [
      "Группировка по значениям:\n",
      "1350000    735\n",
      "895000     679\n",
      "699000     653\n",
      "815000     617\n",
      "469000     596\n",
      "1299000    520\n",
      "1499000    511\n",
      "Name: price, dtype: int64\n",
      "\n",
      "Нулевые значения\n",
      "False    89344\n",
      "Name: price, dtype: int64\n"
     ]
    },
    {
     "ename": "AttributeError",
     "evalue": "Can only use .str accessor with string values!",
     "output_type": "error",
     "traceback": [
      "\u001b[1;31m---------------------------------------------------------------------------\u001b[0m",
      "\u001b[1;31mAttributeError\u001b[0m                            Traceback (most recent call last)",
      "\u001b[1;32m<ipython-input-91-9737672f23ff>\u001b[0m in \u001b[0;36m<module>\u001b[1;34m\u001b[0m\n\u001b[1;32m----> 1\u001b[1;33m \u001b[0mdescribe_df_collumn\u001b[0m\u001b[1;33m(\u001b[0m\u001b[0mdf\u001b[0m\u001b[1;33m,\u001b[0m \u001b[1;34m'price'\u001b[0m\u001b[1;33m)\u001b[0m\u001b[1;33m\u001b[0m\u001b[1;33m\u001b[0m\u001b[0m\n\u001b[0m",
      "\u001b[1;32m<ipython-input-3-821e77f9a520>\u001b[0m in \u001b[0;36mdescribe_df_collumn\u001b[1;34m(data_frame, collumn)\u001b[0m\n\u001b[0;32m     12\u001b[0m \u001b[1;33m\u001b[0m\u001b[0m\n\u001b[0;32m     13\u001b[0m \u001b[1;31m#     print('отсутствует =' ,data_frame[data_frame[collumn].str.contains('отсутствуе', case=False) ][collumn].value_counts()[0 )\u001b[0m\u001b[1;33m\u001b[0m\u001b[1;33m\u001b[0m\u001b[1;33m\u001b[0m\u001b[0m\n\u001b[1;32m---> 14\u001b[1;33m     \u001b[0mind\u001b[0m \u001b[1;33m=\u001b[0m \u001b[0mdata_frame\u001b[0m\u001b[1;33m[\u001b[0m\u001b[0mdata_frame\u001b[0m\u001b[1;33m[\u001b[0m\u001b[0mcollumn\u001b[0m\u001b[1;33m]\u001b[0m\u001b[1;33m.\u001b[0m\u001b[0mstr\u001b[0m\u001b[1;33m.\u001b[0m\u001b[0mcontains\u001b[0m\u001b[1;33m(\u001b[0m\u001b[1;34m'отсутствуе'\u001b[0m\u001b[1;33m,\u001b[0m \u001b[0mcase\u001b[0m\u001b[1;33m=\u001b[0m\u001b[1;32mFalse\u001b[0m\u001b[1;33m)\u001b[0m \u001b[1;33m]\u001b[0m\u001b[1;33m.\u001b[0m\u001b[0mindex\u001b[0m\u001b[1;33m\u001b[0m\u001b[1;33m\u001b[0m\u001b[0m\n\u001b[0m\u001b[0;32m     15\u001b[0m     \u001b[0mprint\u001b[0m\u001b[1;33m(\u001b[0m\u001b[1;33m)\u001b[0m\u001b[1;33m\u001b[0m\u001b[1;33m\u001b[0m\u001b[0m\n\u001b[0;32m     16\u001b[0m     \u001b[1;32mif\u001b[0m \u001b[0mlen\u001b[0m\u001b[1;33m(\u001b[0m\u001b[0mind\u001b[0m\u001b[1;33m)\u001b[0m \u001b[1;33m!=\u001b[0m \u001b[1;36m0\u001b[0m\u001b[1;33m:\u001b[0m\u001b[1;33m\u001b[0m\u001b[1;33m\u001b[0m\u001b[0m\n",
      "\u001b[1;32mc:\\python39\\lib\\site-packages\\pandas\\core\\generic.py\u001b[0m in \u001b[0;36m__getattr__\u001b[1;34m(self, name)\u001b[0m\n\u001b[0;32m   5135\u001b[0m             \u001b[1;32mor\u001b[0m \u001b[0mname\u001b[0m \u001b[1;32min\u001b[0m \u001b[0mself\u001b[0m\u001b[1;33m.\u001b[0m\u001b[0m_accessors\u001b[0m\u001b[1;33m\u001b[0m\u001b[1;33m\u001b[0m\u001b[0m\n\u001b[0;32m   5136\u001b[0m         ):\n\u001b[1;32m-> 5137\u001b[1;33m             \u001b[1;32mreturn\u001b[0m \u001b[0mobject\u001b[0m\u001b[1;33m.\u001b[0m\u001b[0m__getattribute__\u001b[0m\u001b[1;33m(\u001b[0m\u001b[0mself\u001b[0m\u001b[1;33m,\u001b[0m \u001b[0mname\u001b[0m\u001b[1;33m)\u001b[0m\u001b[1;33m\u001b[0m\u001b[1;33m\u001b[0m\u001b[0m\n\u001b[0m\u001b[0;32m   5138\u001b[0m         \u001b[1;32melse\u001b[0m\u001b[1;33m:\u001b[0m\u001b[1;33m\u001b[0m\u001b[1;33m\u001b[0m\u001b[0m\n\u001b[0;32m   5139\u001b[0m             \u001b[1;32mif\u001b[0m \u001b[0mself\u001b[0m\u001b[1;33m.\u001b[0m\u001b[0m_info_axis\u001b[0m\u001b[1;33m.\u001b[0m\u001b[0m_can_hold_identifiers_and_holds_name\u001b[0m\u001b[1;33m(\u001b[0m\u001b[0mname\u001b[0m\u001b[1;33m)\u001b[0m\u001b[1;33m:\u001b[0m\u001b[1;33m\u001b[0m\u001b[1;33m\u001b[0m\u001b[0m\n",
      "\u001b[1;32mc:\\python39\\lib\\site-packages\\pandas\\core\\accessor.py\u001b[0m in \u001b[0;36m__get__\u001b[1;34m(self, obj, cls)\u001b[0m\n\u001b[0;32m    185\u001b[0m             \u001b[1;31m# we're accessing the attribute of the class, i.e., Dataset.geo\u001b[0m\u001b[1;33m\u001b[0m\u001b[1;33m\u001b[0m\u001b[1;33m\u001b[0m\u001b[0m\n\u001b[0;32m    186\u001b[0m             \u001b[1;32mreturn\u001b[0m \u001b[0mself\u001b[0m\u001b[1;33m.\u001b[0m\u001b[0m_accessor\u001b[0m\u001b[1;33m\u001b[0m\u001b[1;33m\u001b[0m\u001b[0m\n\u001b[1;32m--> 187\u001b[1;33m         \u001b[0maccessor_obj\u001b[0m \u001b[1;33m=\u001b[0m \u001b[0mself\u001b[0m\u001b[1;33m.\u001b[0m\u001b[0m_accessor\u001b[0m\u001b[1;33m(\u001b[0m\u001b[0mobj\u001b[0m\u001b[1;33m)\u001b[0m\u001b[1;33m\u001b[0m\u001b[1;33m\u001b[0m\u001b[0m\n\u001b[0m\u001b[0;32m    188\u001b[0m         \u001b[1;31m# Replace the property with the accessor object. Inspired by:\u001b[0m\u001b[1;33m\u001b[0m\u001b[1;33m\u001b[0m\u001b[1;33m\u001b[0m\u001b[0m\n\u001b[0;32m    189\u001b[0m         \u001b[1;31m# https://www.pydanny.com/cached-property.html\u001b[0m\u001b[1;33m\u001b[0m\u001b[1;33m\u001b[0m\u001b[1;33m\u001b[0m\u001b[0m\n",
      "\u001b[1;32mc:\\python39\\lib\\site-packages\\pandas\\core\\strings.py\u001b[0m in \u001b[0;36m__init__\u001b[1;34m(self, data)\u001b[0m\n\u001b[0;32m   2098\u001b[0m \u001b[1;33m\u001b[0m\u001b[0m\n\u001b[0;32m   2099\u001b[0m     \u001b[1;32mdef\u001b[0m \u001b[0m__init__\u001b[0m\u001b[1;33m(\u001b[0m\u001b[0mself\u001b[0m\u001b[1;33m,\u001b[0m \u001b[0mdata\u001b[0m\u001b[1;33m)\u001b[0m\u001b[1;33m:\u001b[0m\u001b[1;33m\u001b[0m\u001b[1;33m\u001b[0m\u001b[0m\n\u001b[1;32m-> 2100\u001b[1;33m         \u001b[0mself\u001b[0m\u001b[1;33m.\u001b[0m\u001b[0m_inferred_dtype\u001b[0m \u001b[1;33m=\u001b[0m \u001b[0mself\u001b[0m\u001b[1;33m.\u001b[0m\u001b[0m_validate\u001b[0m\u001b[1;33m(\u001b[0m\u001b[0mdata\u001b[0m\u001b[1;33m)\u001b[0m\u001b[1;33m\u001b[0m\u001b[1;33m\u001b[0m\u001b[0m\n\u001b[0m\u001b[0;32m   2101\u001b[0m         \u001b[0mself\u001b[0m\u001b[1;33m.\u001b[0m\u001b[0m_is_categorical\u001b[0m \u001b[1;33m=\u001b[0m \u001b[0mis_categorical_dtype\u001b[0m\u001b[1;33m(\u001b[0m\u001b[0mdata\u001b[0m\u001b[1;33m.\u001b[0m\u001b[0mdtype\u001b[0m\u001b[1;33m)\u001b[0m\u001b[1;33m\u001b[0m\u001b[1;33m\u001b[0m\u001b[0m\n\u001b[0;32m   2102\u001b[0m         \u001b[0mself\u001b[0m\u001b[1;33m.\u001b[0m\u001b[0m_is_string\u001b[0m \u001b[1;33m=\u001b[0m \u001b[0mdata\u001b[0m\u001b[1;33m.\u001b[0m\u001b[0mdtype\u001b[0m\u001b[1;33m.\u001b[0m\u001b[0mname\u001b[0m \u001b[1;33m==\u001b[0m \u001b[1;34m\"string\"\u001b[0m\u001b[1;33m\u001b[0m\u001b[1;33m\u001b[0m\u001b[0m\n",
      "\u001b[1;32mc:\\python39\\lib\\site-packages\\pandas\\core\\strings.py\u001b[0m in \u001b[0;36m_validate\u001b[1;34m(data)\u001b[0m\n\u001b[0;32m   2155\u001b[0m \u001b[1;33m\u001b[0m\u001b[0m\n\u001b[0;32m   2156\u001b[0m         \u001b[1;32mif\u001b[0m \u001b[0minferred_dtype\u001b[0m \u001b[1;32mnot\u001b[0m \u001b[1;32min\u001b[0m \u001b[0mallowed_types\u001b[0m\u001b[1;33m:\u001b[0m\u001b[1;33m\u001b[0m\u001b[1;33m\u001b[0m\u001b[0m\n\u001b[1;32m-> 2157\u001b[1;33m             \u001b[1;32mraise\u001b[0m \u001b[0mAttributeError\u001b[0m\u001b[1;33m(\u001b[0m\u001b[1;34m\"Can only use .str accessor with string values!\"\u001b[0m\u001b[1;33m)\u001b[0m\u001b[1;33m\u001b[0m\u001b[1;33m\u001b[0m\u001b[0m\n\u001b[0m\u001b[0;32m   2158\u001b[0m         \u001b[1;32mreturn\u001b[0m \u001b[0minferred_dtype\u001b[0m\u001b[1;33m\u001b[0m\u001b[1;33m\u001b[0m\u001b[0m\n\u001b[0;32m   2159\u001b[0m \u001b[1;33m\u001b[0m\u001b[0m\n",
      "\u001b[1;31mAttributeError\u001b[0m: Can only use .str accessor with string values!"
     ]
    }
   ],
   "source": [
    "describe_df_collumn(df, 'price')"
   ]
  },
  {
   "cell_type": "code",
   "execution_count": 92,
   "metadata": {},
   "outputs": [],
   "source": [
    "df.to_csv('D:\\\\all_cars_site.csv', sep=';', encoding = 'utf-8')"
   ]
  },
  {
   "cell_type": "code",
   "execution_count": null,
   "metadata": {},
   "outputs": [],
   "source": []
  }
 ],
 "metadata": {
  "kernelspec": {
   "display_name": "Python 3",
   "language": "python",
   "name": "python3"
  },
  "language_info": {
   "codemirror_mode": {
    "name": "ipython",
    "version": 3
   },
   "file_extension": ".py",
   "mimetype": "text/x-python",
   "name": "python",
   "nbconvert_exporter": "python",
   "pygments_lexer": "ipython3",
   "version": "3.9.0"
  },
  "toc-autonumbering": false,
  "toc-showcode": false,
  "toc-showmarkdowntxt": false,
  "toc-showtags": false
 },
 "nbformat": 4,
 "nbformat_minor": 4
}
