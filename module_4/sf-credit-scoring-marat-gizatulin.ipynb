{
 "cells": [
  {
   "cell_type": "code",
   "execution_count": 1,
   "metadata": {
    "_cell_guid": "b1076dfc-b9ad-4769-8c92-a6c4dae69d19",
    "_uuid": "8f2839f25d086af736a60e9eeb907d3b93b6e0e5",
    "execution": {
     "iopub.execute_input": "2020-12-23T10:24:10.399350Z",
     "iopub.status.busy": "2020-12-23T10:24:10.398507Z",
     "iopub.status.idle": "2020-12-23T10:24:11.754233Z",
     "shell.execute_reply": "2020-12-23T10:24:11.754772Z"
    },
    "papermill": {
     "duration": 1.403802,
     "end_time": "2020-12-23T10:24:11.754950",
     "exception": false,
     "start_time": "2020-12-23T10:24:10.351148",
     "status": "completed"
    },
    "tags": []
   },
   "outputs": [
    {
     "name": "stdout",
     "output_type": "stream",
     "text": [
      "/kaggle/input/sf-dst-scoring/sample_submission.csv\n",
      "/kaggle/input/sf-dst-scoring/train.csv\n",
      "/kaggle/input/sf-dst-scoring/test.csv\n"
     ]
    }
   ],
   "source": [
    "# This Python 3 environment comes with many helpful analytics libraries installed\n",
    "# It is defined by the kaggle/python Docker image: https://github.com/kaggle/docker-python\n",
    "# For example, here's several helpful packages to load\n",
    "\n",
    "from datetime import datetime \n",
    "\n",
    "import numpy as np # linear algebra\n",
    "import pandas as pd # data processing, CSV file I/O (e.g. pd.read_csv)\n",
    "\n",
    "import seaborn as sns\n",
    "from matplotlib import pyplot as plt\n",
    "%matplotlib inline\n",
    "\n",
    "from sklearn.feature_selection import f_classif, mutual_info_classif\n",
    "from sklearn.preprocessing import LabelEncoder, OneHotEncoder, StandardScaler, RobustScaler\n",
    "\n",
    "from sklearn.model_selection import train_test_split\n",
    "from sklearn.linear_model import LogisticRegression\n",
    "\n",
    "from sklearn.model_selection import GridSearchCV\n",
    "\n",
    "\n",
    "from sklearn.metrics import accuracy_score, precision_score, recall_score, f1_score, confusion_matrix\n",
    "from sklearn.metrics import auc, roc_auc_score, roc_curve, precision_recall_curve, average_precision_score\n",
    "\n",
    "# Input data files are available in the read-only \"../input/\" directory\n",
    "# For example, running this (by clicking run or pressing Shift+Enter) will list all files under the input directory\n",
    "\n",
    "import os\n",
    "for dirname, _, filenames in os.walk('/kaggle/input'):\n",
    "    for filename in filenames:\n",
    "        print(os.path.join(dirname, filename))\n",
    "\n",
    "# You can write up to 20GB to the current directory (/kaggle/working/) that gets preserved as output when you create a version using \"Save & Run All\" \n",
    "# You can also write temporary files to /kaggle/temp/, but they won't be saved outside of the current session"
   ]
  },
  {
   "cell_type": "markdown",
   "metadata": {
    "papermill": {
     "duration": 0.042354,
     "end_time": "2020-12-23T10:24:11.843954",
     "exception": false,
     "start_time": "2020-12-23T10:24:11.801600",
     "status": "completed"
    },
    "tags": []
   },
   "source": [
    "# Загрузка данных"
   ]
  },
  {
   "cell_type": "code",
   "execution_count": 2,
   "metadata": {
    "_cell_guid": "79c7e3d0-c299-4dcb-8224-4455121ee9b0",
    "_uuid": "d629ff2d2480ee46fbb7e2d37f6b5fab8052498a",
    "execution": {
     "iopub.execute_input": "2020-12-23T10:24:11.933708Z",
     "iopub.status.busy": "2020-12-23T10:24:11.932902Z",
     "iopub.status.idle": "2020-12-23T10:24:15.109127Z",
     "shell.execute_reply": "2020-12-23T10:24:15.108469Z"
    },
    "papermill": {
     "duration": 3.222504,
     "end_time": "2020-12-23T10:24:15.109256",
     "exception": false,
     "start_time": "2020-12-23T10:24:11.886752",
     "status": "completed"
    },
    "tags": []
   },
   "outputs": [],
   "source": [
    "!pip freeze > requirements.txt\n",
    "random_seed = 42\n",
    "\n",
    "data_train = pd.read_csv('/kaggle/input/sf-dst-scoring/train.csv')\n",
    "data_test =  pd.read_csv('/kaggle/input/sf-dst-scoring/test.csv')"
   ]
  },
  {
   "cell_type": "code",
   "execution_count": 3,
   "metadata": {
    "execution": {
     "iopub.execute_input": "2020-12-23T10:24:15.220762Z",
     "iopub.status.busy": "2020-12-23T10:24:15.219926Z",
     "iopub.status.idle": "2020-12-23T10:24:15.235412Z",
     "shell.execute_reply": "2020-12-23T10:24:15.234764Z"
    },
    "papermill": {
     "duration": 0.08343,
     "end_time": "2020-12-23T10:24:15.235522",
     "exception": false,
     "start_time": "2020-12-23T10:24:15.152092",
     "status": "completed"
    },
    "tags": []
   },
   "outputs": [
    {
     "data": {
      "text/html": [
       "<div>\n",
       "<style scoped>\n",
       "    .dataframe tbody tr th:only-of-type {\n",
       "        vertical-align: middle;\n",
       "    }\n",
       "\n",
       "    .dataframe tbody tr th {\n",
       "        vertical-align: top;\n",
       "    }\n",
       "\n",
       "    .dataframe thead th {\n",
       "        text-align: right;\n",
       "    }\n",
       "</style>\n",
       "<table border=\"1\" class=\"dataframe\">\n",
       "  <thead>\n",
       "    <tr style=\"text-align: right;\">\n",
       "      <th></th>\n",
       "      <th>client_id</th>\n",
       "      <th>app_date</th>\n",
       "      <th>education</th>\n",
       "      <th>sex</th>\n",
       "      <th>age</th>\n",
       "      <th>car</th>\n",
       "      <th>car_type</th>\n",
       "      <th>decline_app_cnt</th>\n",
       "      <th>good_work</th>\n",
       "      <th>score_bki</th>\n",
       "      <th>bki_request_cnt</th>\n",
       "      <th>region_rating</th>\n",
       "      <th>home_address</th>\n",
       "      <th>work_address</th>\n",
       "      <th>income</th>\n",
       "      <th>sna</th>\n",
       "      <th>first_time</th>\n",
       "      <th>foreign_passport</th>\n",
       "      <th>default</th>\n",
       "    </tr>\n",
       "  </thead>\n",
       "  <tbody>\n",
       "    <tr>\n",
       "      <th>0</th>\n",
       "      <td>25905</td>\n",
       "      <td>01FEB2014</td>\n",
       "      <td>SCH</td>\n",
       "      <td>M</td>\n",
       "      <td>62</td>\n",
       "      <td>Y</td>\n",
       "      <td>Y</td>\n",
       "      <td>0</td>\n",
       "      <td>0</td>\n",
       "      <td>-2.008753</td>\n",
       "      <td>1</td>\n",
       "      <td>50</td>\n",
       "      <td>1</td>\n",
       "      <td>2</td>\n",
       "      <td>18000</td>\n",
       "      <td>4</td>\n",
       "      <td>1</td>\n",
       "      <td>N</td>\n",
       "      <td>0</td>\n",
       "    </tr>\n",
       "    <tr>\n",
       "      <th>1</th>\n",
       "      <td>63161</td>\n",
       "      <td>12MAR2014</td>\n",
       "      <td>SCH</td>\n",
       "      <td>F</td>\n",
       "      <td>59</td>\n",
       "      <td>N</td>\n",
       "      <td>N</td>\n",
       "      <td>0</td>\n",
       "      <td>0</td>\n",
       "      <td>-1.532276</td>\n",
       "      <td>3</td>\n",
       "      <td>50</td>\n",
       "      <td>2</td>\n",
       "      <td>3</td>\n",
       "      <td>19000</td>\n",
       "      <td>4</td>\n",
       "      <td>1</td>\n",
       "      <td>N</td>\n",
       "      <td>0</td>\n",
       "    </tr>\n",
       "    <tr>\n",
       "      <th>2</th>\n",
       "      <td>25887</td>\n",
       "      <td>01FEB2014</td>\n",
       "      <td>SCH</td>\n",
       "      <td>M</td>\n",
       "      <td>25</td>\n",
       "      <td>Y</td>\n",
       "      <td>N</td>\n",
       "      <td>2</td>\n",
       "      <td>0</td>\n",
       "      <td>-1.408142</td>\n",
       "      <td>1</td>\n",
       "      <td>80</td>\n",
       "      <td>1</td>\n",
       "      <td>2</td>\n",
       "      <td>30000</td>\n",
       "      <td>1</td>\n",
       "      <td>4</td>\n",
       "      <td>Y</td>\n",
       "      <td>0</td>\n",
       "    </tr>\n",
       "    <tr>\n",
       "      <th>3</th>\n",
       "      <td>16222</td>\n",
       "      <td>23JAN2014</td>\n",
       "      <td>SCH</td>\n",
       "      <td>F</td>\n",
       "      <td>53</td>\n",
       "      <td>N</td>\n",
       "      <td>N</td>\n",
       "      <td>0</td>\n",
       "      <td>0</td>\n",
       "      <td>-2.057471</td>\n",
       "      <td>2</td>\n",
       "      <td>50</td>\n",
       "      <td>2</td>\n",
       "      <td>3</td>\n",
       "      <td>10000</td>\n",
       "      <td>1</td>\n",
       "      <td>3</td>\n",
       "      <td>N</td>\n",
       "      <td>0</td>\n",
       "    </tr>\n",
       "    <tr>\n",
       "      <th>4</th>\n",
       "      <td>101655</td>\n",
       "      <td>18APR2014</td>\n",
       "      <td>GRD</td>\n",
       "      <td>M</td>\n",
       "      <td>48</td>\n",
       "      <td>N</td>\n",
       "      <td>N</td>\n",
       "      <td>0</td>\n",
       "      <td>1</td>\n",
       "      <td>-1.244723</td>\n",
       "      <td>1</td>\n",
       "      <td>60</td>\n",
       "      <td>2</td>\n",
       "      <td>3</td>\n",
       "      <td>30000</td>\n",
       "      <td>1</td>\n",
       "      <td>4</td>\n",
       "      <td>Y</td>\n",
       "      <td>0</td>\n",
       "    </tr>\n",
       "  </tbody>\n",
       "</table>\n",
       "</div>"
      ],
      "text/plain": [
       "   client_id   app_date education sex  age car car_type  decline_app_cnt  \\\n",
       "0      25905  01FEB2014       SCH   M   62   Y        Y                0   \n",
       "1      63161  12MAR2014       SCH   F   59   N        N                0   \n",
       "2      25887  01FEB2014       SCH   M   25   Y        N                2   \n",
       "3      16222  23JAN2014       SCH   F   53   N        N                0   \n",
       "4     101655  18APR2014       GRD   M   48   N        N                0   \n",
       "\n",
       "   good_work  score_bki  bki_request_cnt  region_rating  home_address  \\\n",
       "0          0  -2.008753                1             50             1   \n",
       "1          0  -1.532276                3             50             2   \n",
       "2          0  -1.408142                1             80             1   \n",
       "3          0  -2.057471                2             50             2   \n",
       "4          1  -1.244723                1             60             2   \n",
       "\n",
       "   work_address  income  sna  first_time foreign_passport  default  \n",
       "0             2   18000    4           1                N        0  \n",
       "1             3   19000    4           1                N        0  \n",
       "2             2   30000    1           4                Y        0  \n",
       "3             3   10000    1           3                N        0  \n",
       "4             3   30000    1           4                Y        0  "
      ]
     },
     "execution_count": 3,
     "metadata": {},
     "output_type": "execute_result"
    }
   ],
   "source": [
    "data_train.head()"
   ]
  },
  {
   "cell_type": "code",
   "execution_count": 4,
   "metadata": {
    "execution": {
     "iopub.execute_input": "2020-12-23T10:24:15.344058Z",
     "iopub.status.busy": "2020-12-23T10:24:15.343396Z",
     "iopub.status.idle": "2020-12-23T10:24:15.346465Z",
     "shell.execute_reply": "2020-12-23T10:24:15.347053Z"
    },
    "papermill": {
     "duration": 0.067124,
     "end_time": "2020-12-23T10:24:15.347189",
     "exception": false,
     "start_time": "2020-12-23T10:24:15.280065",
     "status": "completed"
    },
    "tags": []
   },
   "outputs": [
    {
     "data": {
      "text/html": [
       "<div>\n",
       "<style scoped>\n",
       "    .dataframe tbody tr th:only-of-type {\n",
       "        vertical-align: middle;\n",
       "    }\n",
       "\n",
       "    .dataframe tbody tr th {\n",
       "        vertical-align: top;\n",
       "    }\n",
       "\n",
       "    .dataframe thead th {\n",
       "        text-align: right;\n",
       "    }\n",
       "</style>\n",
       "<table border=\"1\" class=\"dataframe\">\n",
       "  <thead>\n",
       "    <tr style=\"text-align: right;\">\n",
       "      <th></th>\n",
       "      <th>client_id</th>\n",
       "      <th>app_date</th>\n",
       "      <th>education</th>\n",
       "      <th>sex</th>\n",
       "      <th>age</th>\n",
       "      <th>car</th>\n",
       "      <th>car_type</th>\n",
       "      <th>decline_app_cnt</th>\n",
       "      <th>good_work</th>\n",
       "      <th>score_bki</th>\n",
       "      <th>bki_request_cnt</th>\n",
       "      <th>region_rating</th>\n",
       "      <th>home_address</th>\n",
       "      <th>work_address</th>\n",
       "      <th>income</th>\n",
       "      <th>sna</th>\n",
       "      <th>first_time</th>\n",
       "      <th>foreign_passport</th>\n",
       "    </tr>\n",
       "  </thead>\n",
       "  <tbody>\n",
       "    <tr>\n",
       "      <th>0</th>\n",
       "      <td>74835</td>\n",
       "      <td>22MAR2014</td>\n",
       "      <td>GRD</td>\n",
       "      <td>M</td>\n",
       "      <td>29</td>\n",
       "      <td>Y</td>\n",
       "      <td>Y</td>\n",
       "      <td>0</td>\n",
       "      <td>0</td>\n",
       "      <td>-2.271884</td>\n",
       "      <td>3</td>\n",
       "      <td>50</td>\n",
       "      <td>1</td>\n",
       "      <td>2</td>\n",
       "      <td>50000</td>\n",
       "      <td>1</td>\n",
       "      <td>4</td>\n",
       "      <td>N</td>\n",
       "    </tr>\n",
       "    <tr>\n",
       "      <th>1</th>\n",
       "      <td>17527</td>\n",
       "      <td>24JAN2014</td>\n",
       "      <td>SCH</td>\n",
       "      <td>F</td>\n",
       "      <td>39</td>\n",
       "      <td>N</td>\n",
       "      <td>N</td>\n",
       "      <td>5</td>\n",
       "      <td>0</td>\n",
       "      <td>-1.504999</td>\n",
       "      <td>2</td>\n",
       "      <td>50</td>\n",
       "      <td>1</td>\n",
       "      <td>2</td>\n",
       "      <td>5000</td>\n",
       "      <td>4</td>\n",
       "      <td>3</td>\n",
       "      <td>N</td>\n",
       "    </tr>\n",
       "    <tr>\n",
       "      <th>2</th>\n",
       "      <td>75683</td>\n",
       "      <td>23MAR2014</td>\n",
       "      <td>UGR</td>\n",
       "      <td>M</td>\n",
       "      <td>50</td>\n",
       "      <td>Y</td>\n",
       "      <td>Y</td>\n",
       "      <td>0</td>\n",
       "      <td>0</td>\n",
       "      <td>-1.691339</td>\n",
       "      <td>1</td>\n",
       "      <td>50</td>\n",
       "      <td>1</td>\n",
       "      <td>2</td>\n",
       "      <td>30000</td>\n",
       "      <td>1</td>\n",
       "      <td>3</td>\n",
       "      <td>Y</td>\n",
       "    </tr>\n",
       "    <tr>\n",
       "      <th>3</th>\n",
       "      <td>26883</td>\n",
       "      <td>03FEB2014</td>\n",
       "      <td>SCH</td>\n",
       "      <td>M</td>\n",
       "      <td>56</td>\n",
       "      <td>N</td>\n",
       "      <td>N</td>\n",
       "      <td>0</td>\n",
       "      <td>0</td>\n",
       "      <td>-2.374182</td>\n",
       "      <td>1</td>\n",
       "      <td>40</td>\n",
       "      <td>1</td>\n",
       "      <td>2</td>\n",
       "      <td>17000</td>\n",
       "      <td>1</td>\n",
       "      <td>3</td>\n",
       "      <td>N</td>\n",
       "    </tr>\n",
       "    <tr>\n",
       "      <th>4</th>\n",
       "      <td>28862</td>\n",
       "      <td>04FEB2014</td>\n",
       "      <td>GRD</td>\n",
       "      <td>F</td>\n",
       "      <td>38</td>\n",
       "      <td>N</td>\n",
       "      <td>N</td>\n",
       "      <td>0</td>\n",
       "      <td>0</td>\n",
       "      <td>-2.487502</td>\n",
       "      <td>0</td>\n",
       "      <td>80</td>\n",
       "      <td>2</td>\n",
       "      <td>3</td>\n",
       "      <td>120000</td>\n",
       "      <td>1</td>\n",
       "      <td>3</td>\n",
       "      <td>N</td>\n",
       "    </tr>\n",
       "  </tbody>\n",
       "</table>\n",
       "</div>"
      ],
      "text/plain": [
       "   client_id   app_date education sex  age car car_type  decline_app_cnt  \\\n",
       "0      74835  22MAR2014       GRD   M   29   Y        Y                0   \n",
       "1      17527  24JAN2014       SCH   F   39   N        N                5   \n",
       "2      75683  23MAR2014       UGR   M   50   Y        Y                0   \n",
       "3      26883  03FEB2014       SCH   M   56   N        N                0   \n",
       "4      28862  04FEB2014       GRD   F   38   N        N                0   \n",
       "\n",
       "   good_work  score_bki  bki_request_cnt  region_rating  home_address  \\\n",
       "0          0  -2.271884                3             50             1   \n",
       "1          0  -1.504999                2             50             1   \n",
       "2          0  -1.691339                1             50             1   \n",
       "3          0  -2.374182                1             40             1   \n",
       "4          0  -2.487502                0             80             2   \n",
       "\n",
       "   work_address  income  sna  first_time foreign_passport  \n",
       "0             2   50000    1           4                N  \n",
       "1             2    5000    4           3                N  \n",
       "2             2   30000    1           3                Y  \n",
       "3             2   17000    1           3                N  \n",
       "4             3  120000    1           3                N  "
      ]
     },
     "execution_count": 4,
     "metadata": {},
     "output_type": "execute_result"
    }
   ],
   "source": [
    "data_test.head()"
   ]
  },
  {
   "cell_type": "markdown",
   "metadata": {
    "papermill": {
     "duration": 0.043935,
     "end_time": "2020-12-23T10:24:15.435620",
     "exception": false,
     "start_time": "2020-12-23T10:24:15.391685",
     "status": "completed"
    },
    "tags": []
   },
   "source": [
    "### Склеивание данных"
   ]
  },
  {
   "cell_type": "code",
   "execution_count": 5,
   "metadata": {
    "execution": {
     "iopub.execute_input": "2020-12-23T10:24:15.528611Z",
     "iopub.status.busy": "2020-12-23T10:24:15.527896Z",
     "iopub.status.idle": "2020-12-23T10:24:15.596754Z",
     "shell.execute_reply": "2020-12-23T10:24:15.596183Z"
    },
    "papermill": {
     "duration": 0.116424,
     "end_time": "2020-12-23T10:24:15.596942",
     "exception": false,
     "start_time": "2020-12-23T10:24:15.480518",
     "status": "completed"
    },
    "tags": []
   },
   "outputs": [],
   "source": [
    "# разметка\n",
    "data_train['Train'] = 1 \n",
    "data_test['Train']  = 0 \n",
    "\n",
    "data = data_train.append(data_test, sort=False).reset_index(drop=True)"
   ]
  },
  {
   "cell_type": "code",
   "execution_count": 6,
   "metadata": {
    "execution": {
     "iopub.execute_input": "2020-12-23T10:24:15.710260Z",
     "iopub.status.busy": "2020-12-23T10:24:15.709202Z",
     "iopub.status.idle": "2020-12-23T10:24:15.714576Z",
     "shell.execute_reply": "2020-12-23T10:24:15.714005Z"
    },
    "papermill": {
     "duration": 0.071546,
     "end_time": "2020-12-23T10:24:15.714696",
     "exception": false,
     "start_time": "2020-12-23T10:24:15.643150",
     "status": "completed"
    },
    "tags": []
   },
   "outputs": [
    {
     "data": {
      "text/html": [
       "<div>\n",
       "<style scoped>\n",
       "    .dataframe tbody tr th:only-of-type {\n",
       "        vertical-align: middle;\n",
       "    }\n",
       "\n",
       "    .dataframe tbody tr th {\n",
       "        vertical-align: top;\n",
       "    }\n",
       "\n",
       "    .dataframe thead th {\n",
       "        text-align: right;\n",
       "    }\n",
       "</style>\n",
       "<table border=\"1\" class=\"dataframe\">\n",
       "  <thead>\n",
       "    <tr style=\"text-align: right;\">\n",
       "      <th></th>\n",
       "      <th>client_id</th>\n",
       "      <th>app_date</th>\n",
       "      <th>education</th>\n",
       "      <th>sex</th>\n",
       "      <th>age</th>\n",
       "      <th>car</th>\n",
       "      <th>car_type</th>\n",
       "      <th>decline_app_cnt</th>\n",
       "      <th>good_work</th>\n",
       "      <th>score_bki</th>\n",
       "      <th>bki_request_cnt</th>\n",
       "      <th>region_rating</th>\n",
       "      <th>home_address</th>\n",
       "      <th>work_address</th>\n",
       "      <th>income</th>\n",
       "      <th>sna</th>\n",
       "      <th>first_time</th>\n",
       "      <th>foreign_passport</th>\n",
       "      <th>default</th>\n",
       "      <th>Train</th>\n",
       "    </tr>\n",
       "  </thead>\n",
       "  <tbody>\n",
       "    <tr>\n",
       "      <th>0</th>\n",
       "      <td>25905</td>\n",
       "      <td>01FEB2014</td>\n",
       "      <td>SCH</td>\n",
       "      <td>M</td>\n",
       "      <td>62</td>\n",
       "      <td>Y</td>\n",
       "      <td>Y</td>\n",
       "      <td>0</td>\n",
       "      <td>0</td>\n",
       "      <td>-2.008753</td>\n",
       "      <td>1</td>\n",
       "      <td>50</td>\n",
       "      <td>1</td>\n",
       "      <td>2</td>\n",
       "      <td>18000</td>\n",
       "      <td>4</td>\n",
       "      <td>1</td>\n",
       "      <td>N</td>\n",
       "      <td>0.0</td>\n",
       "      <td>1</td>\n",
       "    </tr>\n",
       "    <tr>\n",
       "      <th>1</th>\n",
       "      <td>63161</td>\n",
       "      <td>12MAR2014</td>\n",
       "      <td>SCH</td>\n",
       "      <td>F</td>\n",
       "      <td>59</td>\n",
       "      <td>N</td>\n",
       "      <td>N</td>\n",
       "      <td>0</td>\n",
       "      <td>0</td>\n",
       "      <td>-1.532276</td>\n",
       "      <td>3</td>\n",
       "      <td>50</td>\n",
       "      <td>2</td>\n",
       "      <td>3</td>\n",
       "      <td>19000</td>\n",
       "      <td>4</td>\n",
       "      <td>1</td>\n",
       "      <td>N</td>\n",
       "      <td>0.0</td>\n",
       "      <td>1</td>\n",
       "    </tr>\n",
       "    <tr>\n",
       "      <th>2</th>\n",
       "      <td>25887</td>\n",
       "      <td>01FEB2014</td>\n",
       "      <td>SCH</td>\n",
       "      <td>M</td>\n",
       "      <td>25</td>\n",
       "      <td>Y</td>\n",
       "      <td>N</td>\n",
       "      <td>2</td>\n",
       "      <td>0</td>\n",
       "      <td>-1.408142</td>\n",
       "      <td>1</td>\n",
       "      <td>80</td>\n",
       "      <td>1</td>\n",
       "      <td>2</td>\n",
       "      <td>30000</td>\n",
       "      <td>1</td>\n",
       "      <td>4</td>\n",
       "      <td>Y</td>\n",
       "      <td>0.0</td>\n",
       "      <td>1</td>\n",
       "    </tr>\n",
       "    <tr>\n",
       "      <th>3</th>\n",
       "      <td>16222</td>\n",
       "      <td>23JAN2014</td>\n",
       "      <td>SCH</td>\n",
       "      <td>F</td>\n",
       "      <td>53</td>\n",
       "      <td>N</td>\n",
       "      <td>N</td>\n",
       "      <td>0</td>\n",
       "      <td>0</td>\n",
       "      <td>-2.057471</td>\n",
       "      <td>2</td>\n",
       "      <td>50</td>\n",
       "      <td>2</td>\n",
       "      <td>3</td>\n",
       "      <td>10000</td>\n",
       "      <td>1</td>\n",
       "      <td>3</td>\n",
       "      <td>N</td>\n",
       "      <td>0.0</td>\n",
       "      <td>1</td>\n",
       "    </tr>\n",
       "    <tr>\n",
       "      <th>4</th>\n",
       "      <td>101655</td>\n",
       "      <td>18APR2014</td>\n",
       "      <td>GRD</td>\n",
       "      <td>M</td>\n",
       "      <td>48</td>\n",
       "      <td>N</td>\n",
       "      <td>N</td>\n",
       "      <td>0</td>\n",
       "      <td>1</td>\n",
       "      <td>-1.244723</td>\n",
       "      <td>1</td>\n",
       "      <td>60</td>\n",
       "      <td>2</td>\n",
       "      <td>3</td>\n",
       "      <td>30000</td>\n",
       "      <td>1</td>\n",
       "      <td>4</td>\n",
       "      <td>Y</td>\n",
       "      <td>0.0</td>\n",
       "      <td>1</td>\n",
       "    </tr>\n",
       "  </tbody>\n",
       "</table>\n",
       "</div>"
      ],
      "text/plain": [
       "   client_id   app_date education sex  age car car_type  decline_app_cnt  \\\n",
       "0      25905  01FEB2014       SCH   M   62   Y        Y                0   \n",
       "1      63161  12MAR2014       SCH   F   59   N        N                0   \n",
       "2      25887  01FEB2014       SCH   M   25   Y        N                2   \n",
       "3      16222  23JAN2014       SCH   F   53   N        N                0   \n",
       "4     101655  18APR2014       GRD   M   48   N        N                0   \n",
       "\n",
       "   good_work  score_bki  bki_request_cnt  region_rating  home_address  \\\n",
       "0          0  -2.008753                1             50             1   \n",
       "1          0  -1.532276                3             50             2   \n",
       "2          0  -1.408142                1             80             1   \n",
       "3          0  -2.057471                2             50             2   \n",
       "4          1  -1.244723                1             60             2   \n",
       "\n",
       "   work_address  income  sna  first_time foreign_passport  default  Train  \n",
       "0             2   18000    4           1                N      0.0      1  \n",
       "1             3   19000    4           1                N      0.0      1  \n",
       "2             2   30000    1           4                Y      0.0      1  \n",
       "3             3   10000    1           3                N      0.0      1  \n",
       "4             3   30000    1           4                Y      0.0      1  "
      ]
     },
     "execution_count": 6,
     "metadata": {},
     "output_type": "execute_result"
    }
   ],
   "source": [
    "data.head()"
   ]
  },
  {
   "cell_type": "code",
   "execution_count": 7,
   "metadata": {
    "execution": {
     "iopub.execute_input": "2020-12-23T10:24:15.810188Z",
     "iopub.status.busy": "2020-12-23T10:24:15.809553Z",
     "iopub.status.idle": "2020-12-23T10:24:15.816766Z",
     "shell.execute_reply": "2020-12-23T10:24:15.817827Z"
    },
    "papermill": {
     "duration": 0.057427,
     "end_time": "2020-12-23T10:24:15.818231",
     "exception": false,
     "start_time": "2020-12-23T10:24:15.760804",
     "status": "completed"
    },
    "tags": []
   },
   "outputs": [
    {
     "name": "stdout",
     "output_type": "stream",
     "text": [
      "(73799, 20)\n",
      "(36349, 19)\n",
      "(110148, 20)\n"
     ]
    }
   ],
   "source": [
    "print(data_train.shape)\n",
    "print(data_test.shape)\n",
    "print(data.shape)"
   ]
  },
  {
   "cell_type": "code",
   "execution_count": 8,
   "metadata": {
    "execution": {
     "iopub.execute_input": "2020-12-23T10:24:15.919044Z",
     "iopub.status.busy": "2020-12-23T10:24:15.918192Z",
     "iopub.status.idle": "2020-12-23T10:24:16.037643Z",
     "shell.execute_reply": "2020-12-23T10:24:16.038163Z"
    },
    "papermill": {
     "duration": 0.173671,
     "end_time": "2020-12-23T10:24:16.038315",
     "exception": false,
     "start_time": "2020-12-23T10:24:15.864644",
     "status": "completed"
    },
    "tags": []
   },
   "outputs": [
    {
     "data": {
      "text/html": [
       "<div>\n",
       "<style scoped>\n",
       "    .dataframe tbody tr th:only-of-type {\n",
       "        vertical-align: middle;\n",
       "    }\n",
       "\n",
       "    .dataframe tbody tr th {\n",
       "        vertical-align: top;\n",
       "    }\n",
       "\n",
       "    .dataframe thead th {\n",
       "        text-align: right;\n",
       "    }\n",
       "</style>\n",
       "<table border=\"1\" class=\"dataframe\">\n",
       "  <thead>\n",
       "    <tr style=\"text-align: right;\">\n",
       "      <th></th>\n",
       "      <th>client_id</th>\n",
       "      <th>age</th>\n",
       "      <th>decline_app_cnt</th>\n",
       "      <th>good_work</th>\n",
       "      <th>score_bki</th>\n",
       "      <th>bki_request_cnt</th>\n",
       "      <th>region_rating</th>\n",
       "      <th>home_address</th>\n",
       "      <th>work_address</th>\n",
       "      <th>income</th>\n",
       "      <th>sna</th>\n",
       "      <th>first_time</th>\n",
       "      <th>default</th>\n",
       "      <th>Train</th>\n",
       "    </tr>\n",
       "  </thead>\n",
       "  <tbody>\n",
       "    <tr>\n",
       "      <th>count</th>\n",
       "      <td>110148.000000</td>\n",
       "      <td>110148.000000</td>\n",
       "      <td>110148.000000</td>\n",
       "      <td>110148.000000</td>\n",
       "      <td>110148.000000</td>\n",
       "      <td>110148.000000</td>\n",
       "      <td>110148.000000</td>\n",
       "      <td>110148.000000</td>\n",
       "      <td>110148.000000</td>\n",
       "      <td>110148.000000</td>\n",
       "      <td>110148.000000</td>\n",
       "      <td>110148.000000</td>\n",
       "      <td>73799.000000</td>\n",
       "      <td>110148.000000</td>\n",
       "    </tr>\n",
       "    <tr>\n",
       "      <th>mean</th>\n",
       "      <td>55074.500000</td>\n",
       "      <td>39.249410</td>\n",
       "      <td>0.273205</td>\n",
       "      <td>0.165514</td>\n",
       "      <td>-1.904535</td>\n",
       "      <td>2.005002</td>\n",
       "      <td>56.751189</td>\n",
       "      <td>1.574945</td>\n",
       "      <td>2.497867</td>\n",
       "      <td>41012.648537</td>\n",
       "      <td>1.731588</td>\n",
       "      <td>2.765570</td>\n",
       "      <td>0.126994</td>\n",
       "      <td>0.669999</td>\n",
       "    </tr>\n",
       "    <tr>\n",
       "      <th>std</th>\n",
       "      <td>31797.133063</td>\n",
       "      <td>11.518063</td>\n",
       "      <td>0.799099</td>\n",
       "      <td>0.371645</td>\n",
       "      <td>0.499397</td>\n",
       "      <td>2.266926</td>\n",
       "      <td>13.065923</td>\n",
       "      <td>0.527562</td>\n",
       "      <td>0.687651</td>\n",
       "      <td>45399.735051</td>\n",
       "      <td>1.122652</td>\n",
       "      <td>1.010151</td>\n",
       "      <td>0.332968</td>\n",
       "      <td>0.470215</td>\n",
       "    </tr>\n",
       "    <tr>\n",
       "      <th>min</th>\n",
       "      <td>1.000000</td>\n",
       "      <td>21.000000</td>\n",
       "      <td>0.000000</td>\n",
       "      <td>0.000000</td>\n",
       "      <td>-3.624586</td>\n",
       "      <td>0.000000</td>\n",
       "      <td>20.000000</td>\n",
       "      <td>1.000000</td>\n",
       "      <td>1.000000</td>\n",
       "      <td>1000.000000</td>\n",
       "      <td>1.000000</td>\n",
       "      <td>1.000000</td>\n",
       "      <td>0.000000</td>\n",
       "      <td>0.000000</td>\n",
       "    </tr>\n",
       "    <tr>\n",
       "      <th>25%</th>\n",
       "      <td>27537.750000</td>\n",
       "      <td>30.000000</td>\n",
       "      <td>0.000000</td>\n",
       "      <td>0.000000</td>\n",
       "      <td>-2.260434</td>\n",
       "      <td>0.000000</td>\n",
       "      <td>50.000000</td>\n",
       "      <td>1.000000</td>\n",
       "      <td>2.000000</td>\n",
       "      <td>20000.000000</td>\n",
       "      <td>1.000000</td>\n",
       "      <td>2.000000</td>\n",
       "      <td>0.000000</td>\n",
       "      <td>0.000000</td>\n",
       "    </tr>\n",
       "    <tr>\n",
       "      <th>50%</th>\n",
       "      <td>55074.500000</td>\n",
       "      <td>37.000000</td>\n",
       "      <td>0.000000</td>\n",
       "      <td>0.000000</td>\n",
       "      <td>-1.920823</td>\n",
       "      <td>1.000000</td>\n",
       "      <td>50.000000</td>\n",
       "      <td>2.000000</td>\n",
       "      <td>3.000000</td>\n",
       "      <td>30000.000000</td>\n",
       "      <td>1.000000</td>\n",
       "      <td>3.000000</td>\n",
       "      <td>0.000000</td>\n",
       "      <td>1.000000</td>\n",
       "    </tr>\n",
       "    <tr>\n",
       "      <th>75%</th>\n",
       "      <td>82611.250000</td>\n",
       "      <td>48.000000</td>\n",
       "      <td>0.000000</td>\n",
       "      <td>0.000000</td>\n",
       "      <td>-1.567888</td>\n",
       "      <td>3.000000</td>\n",
       "      <td>60.000000</td>\n",
       "      <td>2.000000</td>\n",
       "      <td>3.000000</td>\n",
       "      <td>48000.000000</td>\n",
       "      <td>2.000000</td>\n",
       "      <td>4.000000</td>\n",
       "      <td>0.000000</td>\n",
       "      <td>1.000000</td>\n",
       "    </tr>\n",
       "    <tr>\n",
       "      <th>max</th>\n",
       "      <td>110148.000000</td>\n",
       "      <td>72.000000</td>\n",
       "      <td>33.000000</td>\n",
       "      <td>1.000000</td>\n",
       "      <td>0.199773</td>\n",
       "      <td>53.000000</td>\n",
       "      <td>80.000000</td>\n",
       "      <td>3.000000</td>\n",
       "      <td>3.000000</td>\n",
       "      <td>1000000.000000</td>\n",
       "      <td>4.000000</td>\n",
       "      <td>4.000000</td>\n",
       "      <td>1.000000</td>\n",
       "      <td>1.000000</td>\n",
       "    </tr>\n",
       "  </tbody>\n",
       "</table>\n",
       "</div>"
      ],
      "text/plain": [
       "           client_id            age  decline_app_cnt      good_work  \\\n",
       "count  110148.000000  110148.000000    110148.000000  110148.000000   \n",
       "mean    55074.500000      39.249410         0.273205       0.165514   \n",
       "std     31797.133063      11.518063         0.799099       0.371645   \n",
       "min         1.000000      21.000000         0.000000       0.000000   \n",
       "25%     27537.750000      30.000000         0.000000       0.000000   \n",
       "50%     55074.500000      37.000000         0.000000       0.000000   \n",
       "75%     82611.250000      48.000000         0.000000       0.000000   \n",
       "max    110148.000000      72.000000        33.000000       1.000000   \n",
       "\n",
       "           score_bki  bki_request_cnt  region_rating   home_address  \\\n",
       "count  110148.000000    110148.000000  110148.000000  110148.000000   \n",
       "mean       -1.904535         2.005002      56.751189       1.574945   \n",
       "std         0.499397         2.266926      13.065923       0.527562   \n",
       "min        -3.624586         0.000000      20.000000       1.000000   \n",
       "25%        -2.260434         0.000000      50.000000       1.000000   \n",
       "50%        -1.920823         1.000000      50.000000       2.000000   \n",
       "75%        -1.567888         3.000000      60.000000       2.000000   \n",
       "max         0.199773        53.000000      80.000000       3.000000   \n",
       "\n",
       "        work_address          income            sna     first_time  \\\n",
       "count  110148.000000   110148.000000  110148.000000  110148.000000   \n",
       "mean        2.497867    41012.648537       1.731588       2.765570   \n",
       "std         0.687651    45399.735051       1.122652       1.010151   \n",
       "min         1.000000     1000.000000       1.000000       1.000000   \n",
       "25%         2.000000    20000.000000       1.000000       2.000000   \n",
       "50%         3.000000    30000.000000       1.000000       3.000000   \n",
       "75%         3.000000    48000.000000       2.000000       4.000000   \n",
       "max         3.000000  1000000.000000       4.000000       4.000000   \n",
       "\n",
       "            default          Train  \n",
       "count  73799.000000  110148.000000  \n",
       "mean       0.126994       0.669999  \n",
       "std        0.332968       0.470215  \n",
       "min        0.000000       0.000000  \n",
       "25%        0.000000       0.000000  \n",
       "50%        0.000000       1.000000  \n",
       "75%        0.000000       1.000000  \n",
       "max        1.000000       1.000000  "
      ]
     },
     "execution_count": 8,
     "metadata": {},
     "output_type": "execute_result"
    }
   ],
   "source": [
    "data.describe()"
   ]
  },
  {
   "cell_type": "code",
   "execution_count": 9,
   "metadata": {
    "execution": {
     "iopub.execute_input": "2020-12-23T10:24:16.135960Z",
     "iopub.status.busy": "2020-12-23T10:24:16.135303Z",
     "iopub.status.idle": "2020-12-23T10:24:16.226258Z",
     "shell.execute_reply": "2020-12-23T10:24:16.225615Z"
    },
    "papermill": {
     "duration": 0.140929,
     "end_time": "2020-12-23T10:24:16.226417",
     "exception": false,
     "start_time": "2020-12-23T10:24:16.085488",
     "status": "completed"
    },
    "tags": []
   },
   "outputs": [
    {
     "name": "stdout",
     "output_type": "stream",
     "text": [
      "<class 'pandas.core.frame.DataFrame'>\n",
      "RangeIndex: 110148 entries, 0 to 110147\n",
      "Data columns (total 20 columns):\n",
      " #   Column            Non-Null Count   Dtype  \n",
      "---  ------            --------------   -----  \n",
      " 0   client_id         110148 non-null  int64  \n",
      " 1   app_date          110148 non-null  object \n",
      " 2   education         109670 non-null  object \n",
      " 3   sex               110148 non-null  object \n",
      " 4   age               110148 non-null  int64  \n",
      " 5   car               110148 non-null  object \n",
      " 6   car_type          110148 non-null  object \n",
      " 7   decline_app_cnt   110148 non-null  int64  \n",
      " 8   good_work         110148 non-null  int64  \n",
      " 9   score_bki         110148 non-null  float64\n",
      " 10  bki_request_cnt   110148 non-null  int64  \n",
      " 11  region_rating     110148 non-null  int64  \n",
      " 12  home_address      110148 non-null  int64  \n",
      " 13  work_address      110148 non-null  int64  \n",
      " 14  income            110148 non-null  int64  \n",
      " 15  sna               110148 non-null  int64  \n",
      " 16  first_time        110148 non-null  int64  \n",
      " 17  foreign_passport  110148 non-null  object \n",
      " 18  default           73799 non-null   float64\n",
      " 19  Train             110148 non-null  int64  \n",
      "dtypes: float64(2), int64(12), object(6)\n",
      "memory usage: 16.8+ MB\n"
     ]
    }
   ],
   "source": [
    "data.info()"
   ]
  },
  {
   "cell_type": "markdown",
   "metadata": {
    "papermill": {
     "duration": 0.049006,
     "end_time": "2020-12-23T10:24:16.323446",
     "exception": false,
     "start_time": "2020-12-23T10:24:16.274440",
     "status": "completed"
    },
    "tags": []
   },
   "source": [
    "# Анализ признаков"
   ]
  },
  {
   "cell_type": "markdown",
   "metadata": {
    "papermill": {
     "duration": 0.047948,
     "end_time": "2020-12-23T10:24:16.418776",
     "exception": false,
     "start_time": "2020-12-23T10:24:16.370828",
     "status": "completed"
    },
    "tags": []
   },
   "source": [
    "#### Признаки:   \n",
    "<ol>\n",
    "    <li>client_id - идентификатор клиента</li>\n",
    "    <li>app_date - дата подачи заявки</li>\n",
    "    <li>education - уровень образования</li>\n",
    "    <li>sex - пол заемщика</li>\n",
    "    <li>age - возраст заемщика</li>\n",
    "    <li>car - флаг наличия автомобиля</li>\n",
    "    <li>car_type - флаг автомобиля иномарки</li>\n",
    "    <li>decline_app_cnt - количество отказанных прошлых заявок</li>\n",
    "    <li>good_work - флаг наличия “хорошей” работы</li>\n",
    "    <li>score_bki - скоринговый балл по данным из БКИ</li>\n",
    "    <li>bki_request_cnt - количество запросов в БКИ</li>\n",
    "    <li>region_rating - рейтинг региона</li>\n",
    "    <li>home_address - категоризатор домашнего адреса</li>\n",
    "    <li>work_address - категоризатор рабочего адреса</li>\n",
    "    <li>income - доход заемщика</li>\n",
    "    <li>sna - связь заемщика с клиентами банка</li>\n",
    "    <li>foreign_passport - наличие загранпаспорта</li>\n",
    "    <li>default - наличие дефолта - <i><b>Целевая переменная</b><i></li>\n",
    "</ol>\n"
   ]
  },
  {
   "cell_type": "markdown",
   "metadata": {
    "papermill": {
     "duration": 0.047122,
     "end_time": "2020-12-23T10:24:16.514192",
     "exception": false,
     "start_time": "2020-12-23T10:24:16.467070",
     "status": "completed"
    },
    "tags": []
   },
   "source": [
    "### Проруски"
   ]
  },
  {
   "cell_type": "code",
   "execution_count": 10,
   "metadata": {
    "execution": {
     "iopub.execute_input": "2020-12-23T10:24:16.615846Z",
     "iopub.status.busy": "2020-12-23T10:24:16.614928Z",
     "iopub.status.idle": "2020-12-23T10:24:16.695384Z",
     "shell.execute_reply": "2020-12-23T10:24:16.694646Z"
    },
    "papermill": {
     "duration": 0.133717,
     "end_time": "2020-12-23T10:24:16.695505",
     "exception": false,
     "start_time": "2020-12-23T10:24:16.561788",
     "status": "completed"
    },
    "tags": []
   },
   "outputs": [
    {
     "data": {
      "text/plain": [
       "client_id               0\n",
       "app_date                0\n",
       "education             478\n",
       "sex                     0\n",
       "age                     0\n",
       "car                     0\n",
       "car_type                0\n",
       "decline_app_cnt         0\n",
       "good_work               0\n",
       "score_bki               0\n",
       "bki_request_cnt         0\n",
       "region_rating           0\n",
       "home_address            0\n",
       "work_address            0\n",
       "income                  0\n",
       "sna                     0\n",
       "first_time              0\n",
       "foreign_passport        0\n",
       "default             36349\n",
       "Train                   0\n",
       "dtype: int64"
      ]
     },
     "execution_count": 10,
     "metadata": {},
     "output_type": "execute_result"
    }
   ],
   "source": [
    "data.isna().sum()"
   ]
  },
  {
   "cell_type": "code",
   "execution_count": 11,
   "metadata": {
    "execution": {
     "iopub.execute_input": "2020-12-23T10:24:16.800108Z",
     "iopub.status.busy": "2020-12-23T10:24:16.799469Z",
     "iopub.status.idle": "2020-12-23T10:24:19.160772Z",
     "shell.execute_reply": "2020-12-23T10:24:19.160110Z"
    },
    "papermill": {
     "duration": 2.416869,
     "end_time": "2020-12-23T10:24:19.160943",
     "exception": false,
     "start_time": "2020-12-23T10:24:16.744074",
     "status": "completed"
    },
    "tags": []
   },
   "outputs": [
    {
     "data": {
      "image/png": "[encoded data removed]",
      "text/plain": [
       "<Figure size 1440x720 with 1 Axes>"
      ]
     },
     "metadata": {
      "needs_background": "light"
     },
     "output_type": "display_data"
    }
   ],
   "source": [
    "fig, ax = plt.subplots(figsize=(20,10))\n",
    "sns_heatmap = sns.heatmap(data.isnull(), yticklabels=False, cbar=False, cmap='viridis')"
   ]
  },
  {
   "cell_type": "markdown",
   "metadata": {
    "papermill": {
     "duration": 0.04851,
     "end_time": "2020-12-23T10:24:19.258222",
     "exception": false,
     "start_time": "2020-12-23T10:24:19.209712",
     "status": "completed"
    },
    "tags": []
   },
   "source": [
    "### Временной признак 'app_date'"
   ]
  },
  {
   "cell_type": "code",
   "execution_count": 12,
   "metadata": {
    "execution": {
     "iopub.execute_input": "2020-12-23T10:24:19.371429Z",
     "iopub.status.busy": "2020-12-23T10:24:19.370713Z",
     "iopub.status.idle": "2020-12-23T10:24:19.407980Z",
     "shell.execute_reply": "2020-12-23T10:24:19.408465Z"
    },
    "papermill": {
     "duration": 0.099426,
     "end_time": "2020-12-23T10:24:19.408611",
     "exception": false,
     "start_time": "2020-12-23T10:24:19.309185",
     "status": "completed"
    },
    "tags": []
   },
   "outputs": [
    {
     "data": {
      "text/plain": [
       "0          40\n",
       "1          79\n",
       "2          40\n",
       "3          31\n",
       "4         116\n",
       "         ... \n",
       "110143     98\n",
       "110144    123\n",
       "110145     97\n",
       "110146     15\n",
       "110147     84\n",
       "Name: day_count, Length: 110148, dtype: int64"
      ]
     },
     "execution_count": 12,
     "metadata": {},
     "output_type": "execute_result"
    }
   ],
   "source": [
    "data.app_date = pd.to_datetime(data.app_date, format='%d%b%Y')\n",
    " \n",
    "data['day_count'] = (data.app_date - pd.to_datetime('23/12/2013')).dt.days.astype('int')\n",
    "data['day_count'] "
   ]
  },
  {
   "cell_type": "markdown",
   "metadata": {
    "papermill": {
     "duration": 0.048866,
     "end_time": "2020-12-23T10:24:19.506912",
     "exception": false,
     "start_time": "2020-12-23T10:24:19.458046",
     "status": "completed"
    },
    "tags": []
   },
   "source": [
    "### Признак 'education'[](http://)"
   ]
  },
  {
   "cell_type": "code",
   "execution_count": 13,
   "metadata": {
    "execution": {
     "iopub.execute_input": "2020-12-23T10:24:19.638731Z",
     "iopub.status.busy": "2020-12-23T10:24:19.637585Z",
     "iopub.status.idle": "2020-12-23T10:24:19.798971Z",
     "shell.execute_reply": "2020-12-23T10:24:19.798405Z"
    },
    "papermill": {
     "duration": 0.242985,
     "end_time": "2020-12-23T10:24:19.799081",
     "exception": false,
     "start_time": "2020-12-23T10:24:19.556096",
     "status": "completed"
    },
    "tags": []
   },
   "outputs": [
    {
     "data": {
      "text/plain": [
       "<matplotlib.axes._subplots.AxesSubplot at 0x7f99035cb290>"
      ]
     },
     "execution_count": 13,
     "metadata": {},
     "output_type": "execute_result"
    },
    {
     "data": {
      "image/png": "[encoded data removed]",
      "text/plain": [
       "<Figure size 432x288 with 1 Axes>"
      ]
     },
     "metadata": {
      "needs_background": "light"
     },
     "output_type": "display_data"
    }
   ],
   "source": [
    "data.education.value_counts().plot.barh()"
   ]
  },
  {
   "cell_type": "code",
   "execution_count": 14,
   "metadata": {
    "execution": {
     "iopub.execute_input": "2020-12-23T10:24:19.918792Z",
     "iopub.status.busy": "2020-12-23T10:24:19.916851Z",
     "iopub.status.idle": "2020-12-23T10:24:19.923620Z",
     "shell.execute_reply": "2020-12-23T10:24:19.922903Z"
    },
    "papermill": {
     "duration": 0.074,
     "end_time": "2020-12-23T10:24:19.923737",
     "exception": false,
     "start_time": "2020-12-23T10:24:19.849737",
     "status": "completed"
    },
    "tags": []
   },
   "outputs": [
    {
     "data": {
      "text/plain": [
       "478"
      ]
     },
     "execution_count": 14,
     "metadata": {},
     "output_type": "execute_result"
    }
   ],
   "source": [
    "# Общее количество пропусков\n",
    "data['education'].isna().sum()"
   ]
  },
  {
   "cell_type": "code",
   "execution_count": 15,
   "metadata": {
    "execution": {
     "iopub.execute_input": "2020-12-23T10:24:20.061873Z",
     "iopub.status.busy": "2020-12-23T10:24:20.058736Z",
     "iopub.status.idle": "2020-12-23T10:24:20.066042Z",
     "shell.execute_reply": "2020-12-23T10:24:20.066524Z"
    },
    "papermill": {
     "duration": 0.091377,
     "end_time": "2020-12-23T10:24:20.066669",
     "exception": false,
     "start_time": "2020-12-23T10:24:19.975292",
     "status": "completed"
    },
    "tags": []
   },
   "outputs": [
    {
     "data": {
      "text/plain": [
       "SCH    57998\n",
       "GRD    34768\n",
       "UGR    14748\n",
       "PGR     1865\n",
       "ACD      291\n",
       "Name: education, dtype: int64"
      ]
     },
     "execution_count": 15,
     "metadata": {},
     "output_type": "execute_result"
    }
   ],
   "source": [
    "data['education'].value_counts()"
   ]
  },
  {
   "cell_type": "code",
   "execution_count": 16,
   "metadata": {
    "execution": {
     "iopub.execute_input": "2020-12-23T10:24:20.215245Z",
     "iopub.status.busy": "2020-12-23T10:24:20.202049Z",
     "iopub.status.idle": "2020-12-23T10:24:20.235342Z",
     "shell.execute_reply": "2020-12-23T10:24:20.234743Z"
    },
    "papermill": {
     "duration": 0.117337,
     "end_time": "2020-12-23T10:24:20.235465",
     "exception": false,
     "start_time": "2020-12-23T10:24:20.118128",
     "status": "completed"
    },
    "tags": []
   },
   "outputs": [
    {
     "data": {
      "text/plain": [
       "0"
      ]
     },
     "execution_count": 16,
     "metadata": {},
     "output_type": "execute_result"
    }
   ],
   "source": [
    "data['education'] = data['education'].fillna(data['education'].value_counts().index[0])\n",
    "data['education'].isna().sum()"
   ]
  },
  {
   "cell_type": "markdown",
   "metadata": {
    "papermill": {
     "duration": 0.053688,
     "end_time": "2020-12-23T10:24:20.343293",
     "exception": false,
     "start_time": "2020-12-23T10:24:20.289605",
     "status": "completed"
    },
    "tags": []
   },
   "source": [
    "### Группируем столбцы по типу признаков"
   ]
  },
  {
   "cell_type": "code",
   "execution_count": 17,
   "metadata": {
    "execution": {
     "iopub.execute_input": "2020-12-23T10:24:20.454574Z",
     "iopub.status.busy": "2020-12-23T10:24:20.453795Z",
     "iopub.status.idle": "2020-12-23T10:24:20.457290Z",
     "shell.execute_reply": "2020-12-23T10:24:20.456745Z"
    },
    "papermill": {
     "duration": 0.061551,
     "end_time": "2020-12-23T10:24:20.457430",
     "exception": false,
     "start_time": "2020-12-23T10:24:20.395879",
     "status": "completed"
    },
    "tags": []
   },
   "outputs": [],
   "source": [
    "# time_cols = ['app_date']\n",
    "bin_cols = ['sex', 'car', 'car_type', 'good_work', 'foreign_passport']\n",
    "cat_cols = ['education', 'region_rating', 'home_address', 'work_address', 'sna', 'first_time']\n",
    "num_cols = ['age','decline_app_cnt','score_bki','bki_request_cnt','income', 'day_count']"
   ]
  },
  {
   "cell_type": "markdown",
   "metadata": {
    "papermill": {
     "duration": 0.052065,
     "end_time": "2020-12-23T10:24:20.563824",
     "exception": false,
     "start_time": "2020-12-23T10:24:20.511759",
     "status": "completed"
    },
    "tags": []
   },
   "source": [
    "## Числовые признаки"
   ]
  },
  {
   "cell_type": "markdown",
   "metadata": {
    "papermill": {
     "duration": 0.052919,
     "end_time": "2020-12-23T10:24:20.669100",
     "exception": false,
     "start_time": "2020-12-23T10:24:20.616181",
     "status": "completed"
    },
    "tags": []
   },
   "source": [
    "### Распределение и выбросы"
   ]
  },
  {
   "cell_type": "code",
   "execution_count": 18,
   "metadata": {
    "execution": {
     "iopub.execute_input": "2020-12-23T10:24:20.782897Z",
     "iopub.status.busy": "2020-12-23T10:24:20.781891Z",
     "iopub.status.idle": "2020-12-23T10:24:20.785176Z",
     "shell.execute_reply": "2020-12-23T10:24:20.784648Z"
    },
    "papermill": {
     "duration": 0.063368,
     "end_time": "2020-12-23T10:24:20.785282",
     "exception": false,
     "start_time": "2020-12-23T10:24:20.721914",
     "status": "completed"
    },
    "tags": []
   },
   "outputs": [],
   "source": [
    "# фиксируем параметры графиков\n",
    "sns.set(rc={'figure.figsize':(7,5)}, font_scale=1, style='whitegrid')"
   ]
  },
  {
   "cell_type": "code",
   "execution_count": 19,
   "metadata": {
    "execution": {
     "iopub.execute_input": "2020-12-23T10:24:20.996266Z",
     "iopub.status.busy": "2020-12-23T10:24:20.992777Z",
     "iopub.status.idle": "2020-12-23T10:24:25.276486Z",
     "shell.execute_reply": "2020-12-23T10:24:25.275853Z"
    },
    "papermill": {
     "duration": 4.438392,
     "end_time": "2020-12-23T10:24:25.276598",
     "exception": false,
     "start_time": "2020-12-23T10:24:20.838206",
     "status": "completed"
    },
    "tags": []
   },
   "outputs": [
    {
     "data": {
      "image/png": "[encoded data removed]",
      "text/plain": [
       "<Figure size 648x216 with 2 Axes>"
      ]
     },
     "metadata": {},
     "output_type": "display_data"
    },
    {
     "data": {
      "image/png": "[encoded data removed]",
      "text/plain": [
       "<Figure size 648x216 with 2 Axes>"
      ]
     },
     "metadata": {},
     "output_type": "display_data"
    },
    {
     "data": {
      "image/png": "[encoded data removed]",
      "text/plain": [
       "<Figure size 648x216 with 2 Axes>"
      ]
     },
     "metadata": {},
     "output_type": "display_data"
    },
    {
     "data": {
      "image/png": "[encoded data removed]",
      "text/plain": [
       "<Figure size 648x216 with 2 Axes>"
      ]
     },
     "metadata": {},
     "output_type": "display_data"
    },
    {
     "data": {
      "image/png": "[encoded data removed]",
      "text/plain": [
       "<Figure size 648x216 with 2 Axes>"
      ]
     },
     "metadata": {},
     "output_type": "display_data"
    },
    {
     "data": {
      "image/png": "[encoded data removed]",
      "text/plain": [
       "<Figure size 648x216 with 2 Axes>"
      ]
     },
     "metadata": {},
     "output_type": "display_data"
    }
   ],
   "source": [
    "# обернуть в функцию\n",
    "# sns.axes_style(\"white\")\n",
    "for i in num_cols:\n",
    "    fig = plt.figure(figsize=(9, 3))\n",
    "    gs = fig.add_gridspec(1, 2)\n",
    "        \n",
    "    ax = fig.add_subplot(gs[0, 0])\n",
    "    sns.distplot(data[i], kde = False, rug=False)\n",
    "\n",
    "    ax = fig.add_subplot(gs[0, 1])\n",
    "    sns.boxplot(data=data[i])\n",
    "\n",
    "    fig.tight_layout()"
   ]
  },
  {
   "cell_type": "markdown",
   "metadata": {
    "papermill": {
     "duration": 0.056425,
     "end_time": "2020-12-23T10:24:25.391284",
     "exception": false,
     "start_time": "2020-12-23T10:24:25.334859",
     "status": "completed"
    },
    "tags": []
   },
   "source": [
    "### Корреляция"
   ]
  },
  {
   "cell_type": "code",
   "execution_count": 20,
   "metadata": {
    "execution": {
     "iopub.execute_input": "2020-12-23T10:24:25.527838Z",
     "iopub.status.busy": "2020-12-23T10:24:25.525575Z",
     "iopub.status.idle": "2020-12-23T10:24:25.957361Z",
     "shell.execute_reply": "2020-12-23T10:24:25.956793Z"
    },
    "papermill": {
     "duration": 0.508993,
     "end_time": "2020-12-23T10:24:25.957483",
     "exception": false,
     "start_time": "2020-12-23T10:24:25.448490",
     "status": "completed"
    },
    "tags": []
   },
   "outputs": [
    {
     "data": {
      "text/plain": [
       "<matplotlib.axes._subplots.AxesSubplot at 0x7f990256b450>"
      ]
     },
     "execution_count": 20,
     "metadata": {},
     "output_type": "execute_result"
    },
    {
     "data": {
      "image/png": "[encoded data removed]",
      "text/plain": [
       "<Figure size 504x360 with 2 Axes>"
      ]
     },
     "metadata": {},
     "output_type": "display_data"
    }
   ],
   "source": [
    "sns.heatmap(data[num_cols].corr().abs(), annot = True, vmin=0, vmax=0.5)"
   ]
  },
  {
   "cell_type": "markdown",
   "metadata": {
    "papermill": {
     "duration": 0.058788,
     "end_time": "2020-12-23T10:24:26.075964",
     "exception": false,
     "start_time": "2020-12-23T10:24:26.017176",
     "status": "completed"
    },
    "tags": []
   },
   "source": [
    "## Значимость непрерывных переменных"
   ]
  },
  {
   "cell_type": "code",
   "execution_count": 21,
   "metadata": {
    "execution": {
     "iopub.execute_input": "2020-12-23T10:24:26.202278Z",
     "iopub.status.busy": "2020-12-23T10:24:26.201208Z",
     "iopub.status.idle": "2020-12-23T10:24:26.538476Z",
     "shell.execute_reply": "2020-12-23T10:24:26.539058Z"
    },
    "papermill": {
     "duration": 0.404306,
     "end_time": "2020-12-23T10:24:26.539198",
     "exception": false,
     "start_time": "2020-12-23T10:24:26.134892",
     "status": "completed"
    },
    "tags": []
   },
   "outputs": [
    {
     "data": {
      "text/plain": [
       "<matplotlib.axes._subplots.AxesSubplot at 0x7f990317bf90>"
      ]
     },
     "execution_count": 21,
     "metadata": {},
     "output_type": "execute_result"
    },
    {
     "data": {
      "image/png": "[encoded data removed]",
      "text/plain": [
       "<Figure size 504x360 with 1 Axes>"
      ]
     },
     "metadata": {},
     "output_type": "display_data"
    }
   ],
   "source": [
    "df = data.query('Train == 1')\n",
    "imp_num = pd.Series(f_classif(df[num_cols], df['default'])[0], index = num_cols)\n",
    "imp_num.sort_values(inplace = True)\n",
    "imp_num.plot(kind = 'barh')"
   ]
  },
  {
   "cell_type": "markdown",
   "metadata": {
    "papermill": {
     "duration": 0.077112,
     "end_time": "2020-12-23T10:24:26.711206",
     "exception": false,
     "start_time": "2020-12-23T10:24:26.634094",
     "status": "completed"
    },
    "tags": []
   },
   "source": [
    "# Бинарные переменные"
   ]
  },
  {
   "cell_type": "code",
   "execution_count": 22,
   "metadata": {
    "execution": {
     "iopub.execute_input": "2020-12-23T10:24:26.839575Z",
     "iopub.status.busy": "2020-12-23T10:24:26.838918Z",
     "iopub.status.idle": "2020-12-23T10:24:26.852001Z",
     "shell.execute_reply": "2020-12-23T10:24:26.852521Z"
    },
    "papermill": {
     "duration": 0.07971,
     "end_time": "2020-12-23T10:24:26.852660",
     "exception": false,
     "start_time": "2020-12-23T10:24:26.772950",
     "status": "completed"
    },
    "tags": []
   },
   "outputs": [
    {
     "data": {
      "text/html": [
       "<div>\n",
       "<style scoped>\n",
       "    .dataframe tbody tr th:only-of-type {\n",
       "        vertical-align: middle;\n",
       "    }\n",
       "\n",
       "    .dataframe tbody tr th {\n",
       "        vertical-align: top;\n",
       "    }\n",
       "\n",
       "    .dataframe thead th {\n",
       "        text-align: right;\n",
       "    }\n",
       "</style>\n",
       "<table border=\"1\" class=\"dataframe\">\n",
       "  <thead>\n",
       "    <tr style=\"text-align: right;\">\n",
       "      <th></th>\n",
       "      <th>sex</th>\n",
       "      <th>car</th>\n",
       "      <th>car_type</th>\n",
       "      <th>good_work</th>\n",
       "      <th>foreign_passport</th>\n",
       "    </tr>\n",
       "  </thead>\n",
       "  <tbody>\n",
       "    <tr>\n",
       "      <th>0</th>\n",
       "      <td>M</td>\n",
       "      <td>Y</td>\n",
       "      <td>Y</td>\n",
       "      <td>0</td>\n",
       "      <td>N</td>\n",
       "    </tr>\n",
       "    <tr>\n",
       "      <th>1</th>\n",
       "      <td>F</td>\n",
       "      <td>N</td>\n",
       "      <td>N</td>\n",
       "      <td>0</td>\n",
       "      <td>N</td>\n",
       "    </tr>\n",
       "    <tr>\n",
       "      <th>2</th>\n",
       "      <td>M</td>\n",
       "      <td>Y</td>\n",
       "      <td>N</td>\n",
       "      <td>0</td>\n",
       "      <td>Y</td>\n",
       "    </tr>\n",
       "    <tr>\n",
       "      <th>3</th>\n",
       "      <td>F</td>\n",
       "      <td>N</td>\n",
       "      <td>N</td>\n",
       "      <td>0</td>\n",
       "      <td>N</td>\n",
       "    </tr>\n",
       "    <tr>\n",
       "      <th>4</th>\n",
       "      <td>M</td>\n",
       "      <td>N</td>\n",
       "      <td>N</td>\n",
       "      <td>1</td>\n",
       "      <td>Y</td>\n",
       "    </tr>\n",
       "  </tbody>\n",
       "</table>\n",
       "</div>"
      ],
      "text/plain": [
       "  sex car car_type  good_work foreign_passport\n",
       "0   M   Y        Y          0                N\n",
       "1   F   N        N          0                N\n",
       "2   M   Y        N          0                Y\n",
       "3   F   N        N          0                N\n",
       "4   M   N        N          1                Y"
      ]
     },
     "execution_count": 22,
     "metadata": {},
     "output_type": "execute_result"
    }
   ],
   "source": [
    "data[bin_cols].head()"
   ]
  },
  {
   "cell_type": "code",
   "execution_count": 23,
   "metadata": {
    "execution": {
     "iopub.execute_input": "2020-12-23T10:24:26.986257Z",
     "iopub.status.busy": "2020-12-23T10:24:26.985629Z",
     "iopub.status.idle": "2020-12-23T10:24:27.028104Z",
     "shell.execute_reply": "2020-12-23T10:24:27.029098Z"
    },
    "papermill": {
     "duration": 0.113857,
     "end_time": "2020-12-23T10:24:27.029302",
     "exception": false,
     "start_time": "2020-12-23T10:24:26.915445",
     "status": "completed"
    },
    "tags": []
   },
   "outputs": [
    {
     "name": "stdout",
     "output_type": "stream",
     "text": [
      "{0: 'F', 1: 'M'}\n"
     ]
    }
   ],
   "source": [
    "label_encoder = LabelEncoder()\n",
    "\n",
    "mapped_education = pd.Series(label_encoder.fit_transform(data['sex']))\n",
    "print(dict(enumerate(label_encoder.classes_)))"
   ]
  },
  {
   "cell_type": "code",
   "execution_count": 24,
   "metadata": {
    "execution": {
     "iopub.execute_input": "2020-12-23T10:24:27.160055Z",
     "iopub.status.busy": "2020-12-23T10:24:27.159416Z",
     "iopub.status.idle": "2020-12-23T10:24:27.336292Z",
     "shell.execute_reply": "2020-12-23T10:24:27.336843Z"
    },
    "papermill": {
     "duration": 0.242464,
     "end_time": "2020-12-23T10:24:27.336988",
     "exception": false,
     "start_time": "2020-12-23T10:24:27.094524",
     "status": "completed"
    },
    "tags": []
   },
   "outputs": [
    {
     "data": {
      "text/html": [
       "<div>\n",
       "<style scoped>\n",
       "    .dataframe tbody tr th:only-of-type {\n",
       "        vertical-align: middle;\n",
       "    }\n",
       "\n",
       "    .dataframe tbody tr th {\n",
       "        vertical-align: top;\n",
       "    }\n",
       "\n",
       "    .dataframe thead th {\n",
       "        text-align: right;\n",
       "    }\n",
       "</style>\n",
       "<table border=\"1\" class=\"dataframe\">\n",
       "  <thead>\n",
       "    <tr style=\"text-align: right;\">\n",
       "      <th></th>\n",
       "      <th>sex</th>\n",
       "      <th>car</th>\n",
       "      <th>car_type</th>\n",
       "      <th>good_work</th>\n",
       "      <th>foreign_passport</th>\n",
       "    </tr>\n",
       "  </thead>\n",
       "  <tbody>\n",
       "    <tr>\n",
       "      <th>0</th>\n",
       "      <td>1</td>\n",
       "      <td>1</td>\n",
       "      <td>1</td>\n",
       "      <td>0</td>\n",
       "      <td>0</td>\n",
       "    </tr>\n",
       "    <tr>\n",
       "      <th>1</th>\n",
       "      <td>0</td>\n",
       "      <td>0</td>\n",
       "      <td>0</td>\n",
       "      <td>0</td>\n",
       "      <td>0</td>\n",
       "    </tr>\n",
       "    <tr>\n",
       "      <th>2</th>\n",
       "      <td>1</td>\n",
       "      <td>1</td>\n",
       "      <td>0</td>\n",
       "      <td>0</td>\n",
       "      <td>1</td>\n",
       "    </tr>\n",
       "    <tr>\n",
       "      <th>3</th>\n",
       "      <td>0</td>\n",
       "      <td>0</td>\n",
       "      <td>0</td>\n",
       "      <td>0</td>\n",
       "      <td>0</td>\n",
       "    </tr>\n",
       "    <tr>\n",
       "      <th>4</th>\n",
       "      <td>1</td>\n",
       "      <td>0</td>\n",
       "      <td>0</td>\n",
       "      <td>1</td>\n",
       "      <td>1</td>\n",
       "    </tr>\n",
       "  </tbody>\n",
       "</table>\n",
       "</div>"
      ],
      "text/plain": [
       "   sex  car  car_type  good_work  foreign_passport\n",
       "0    1    1         1          0                 0\n",
       "1    0    0         0          0                 0\n",
       "2    1    1         0          0                 1\n",
       "3    0    0         0          0                 0\n",
       "4    1    0         0          1                 1"
      ]
     },
     "execution_count": 24,
     "metadata": {},
     "output_type": "execute_result"
    }
   ],
   "source": [
    "for column in bin_cols:\n",
    "    data[column] = label_encoder.fit_transform(data[column])\n",
    "    \n",
    "# убедимся в преобразовании    \n",
    "data[bin_cols].head()"
   ]
  },
  {
   "cell_type": "markdown",
   "metadata": {
    "papermill": {
     "duration": 0.061671,
     "end_time": "2020-12-23T10:24:27.460486",
     "exception": false,
     "start_time": "2020-12-23T10:24:27.398815",
     "status": "completed"
    },
    "tags": []
   },
   "source": [
    "# Категориальные признаки"
   ]
  },
  {
   "cell_type": "code",
   "execution_count": 25,
   "metadata": {
    "execution": {
     "iopub.execute_input": "2020-12-23T10:24:27.605566Z",
     "iopub.status.busy": "2020-12-23T10:24:27.601957Z",
     "iopub.status.idle": "2020-12-23T10:24:27.609807Z",
     "shell.execute_reply": "2020-12-23T10:24:27.609126Z"
    },
    "papermill": {
     "duration": 0.080189,
     "end_time": "2020-12-23T10:24:27.609927",
     "exception": false,
     "start_time": "2020-12-23T10:24:27.529738",
     "status": "completed"
    },
    "tags": []
   },
   "outputs": [
    {
     "data": {
      "text/html": [
       "<div>\n",
       "<style scoped>\n",
       "    .dataframe tbody tr th:only-of-type {\n",
       "        vertical-align: middle;\n",
       "    }\n",
       "\n",
       "    .dataframe tbody tr th {\n",
       "        vertical-align: top;\n",
       "    }\n",
       "\n",
       "    .dataframe thead th {\n",
       "        text-align: right;\n",
       "    }\n",
       "</style>\n",
       "<table border=\"1\" class=\"dataframe\">\n",
       "  <thead>\n",
       "    <tr style=\"text-align: right;\">\n",
       "      <th></th>\n",
       "      <th>education</th>\n",
       "      <th>region_rating</th>\n",
       "      <th>home_address</th>\n",
       "      <th>work_address</th>\n",
       "      <th>sna</th>\n",
       "      <th>first_time</th>\n",
       "    </tr>\n",
       "  </thead>\n",
       "  <tbody>\n",
       "    <tr>\n",
       "      <th>0</th>\n",
       "      <td>SCH</td>\n",
       "      <td>50</td>\n",
       "      <td>1</td>\n",
       "      <td>2</td>\n",
       "      <td>4</td>\n",
       "      <td>1</td>\n",
       "    </tr>\n",
       "    <tr>\n",
       "      <th>1</th>\n",
       "      <td>SCH</td>\n",
       "      <td>50</td>\n",
       "      <td>2</td>\n",
       "      <td>3</td>\n",
       "      <td>4</td>\n",
       "      <td>1</td>\n",
       "    </tr>\n",
       "    <tr>\n",
       "      <th>2</th>\n",
       "      <td>SCH</td>\n",
       "      <td>80</td>\n",
       "      <td>1</td>\n",
       "      <td>2</td>\n",
       "      <td>1</td>\n",
       "      <td>4</td>\n",
       "    </tr>\n",
       "  </tbody>\n",
       "</table>\n",
       "</div>"
      ],
      "text/plain": [
       "  education  region_rating  home_address  work_address  sna  first_time\n",
       "0       SCH             50             1             2    4           1\n",
       "1       SCH             50             2             3    4           1\n",
       "2       SCH             80             1             2    1           4"
      ]
     },
     "execution_count": 25,
     "metadata": {},
     "output_type": "execute_result"
    }
   ],
   "source": [
    "data[cat_cols].head(3)"
   ]
  },
  {
   "cell_type": "markdown",
   "metadata": {
    "papermill": {
     "duration": 0.062563,
     "end_time": "2020-12-23T10:24:27.737548",
     "exception": false,
     "start_time": "2020-12-23T10:24:27.674985",
     "status": "completed"
    },
    "tags": []
   },
   "source": [
    "### Перекодируем столбец 'education'"
   ]
  },
  {
   "cell_type": "code",
   "execution_count": 26,
   "metadata": {
    "execution": {
     "iopub.execute_input": "2020-12-23T10:24:27.898194Z",
     "iopub.status.busy": "2020-12-23T10:24:27.886267Z",
     "iopub.status.idle": "2020-12-23T10:24:28.012035Z",
     "shell.execute_reply": "2020-12-23T10:24:28.010866Z"
    },
    "papermill": {
     "duration": 0.211896,
     "end_time": "2020-12-23T10:24:28.012160",
     "exception": false,
     "start_time": "2020-12-23T10:24:27.800264",
     "status": "completed"
    },
    "tags": []
   },
   "outputs": [
    {
     "data": {
      "text/plain": [
       "Int64Index([0, 1, 2, 3, 4], dtype='int64')"
      ]
     },
     "execution_count": 26,
     "metadata": {},
     "output_type": "execute_result"
    }
   ],
   "source": [
    "edu_lvl = {}\n",
    "data['education'].value_counts().index\n",
    "for i,val in enumerate(data['education'].value_counts().index):\n",
    "    edu_lvl[val] = i\n",
    "edu_lvl\n",
    "\n",
    "data['education'] = data['education'].apply(lambda lvl: edu_lvl[lvl])\n",
    "data['education'].value_counts().index"
   ]
  },
  {
   "cell_type": "code",
   "execution_count": 27,
   "metadata": {
    "execution": {
     "iopub.execute_input": "2020-12-23T10:24:28.145509Z",
     "iopub.status.busy": "2020-12-23T10:24:28.144768Z",
     "iopub.status.idle": "2020-12-23T10:24:28.166174Z",
     "shell.execute_reply": "2020-12-23T10:24:28.165532Z"
    },
    "papermill": {
     "duration": 0.090382,
     "end_time": "2020-12-23T10:24:28.166283",
     "exception": false,
     "start_time": "2020-12-23T10:24:28.075901",
     "status": "completed"
    },
    "tags": []
   },
   "outputs": [
    {
     "data": {
      "text/html": [
       "<div>\n",
       "<style scoped>\n",
       "    .dataframe tbody tr th:only-of-type {\n",
       "        vertical-align: middle;\n",
       "    }\n",
       "\n",
       "    .dataframe tbody tr th {\n",
       "        vertical-align: top;\n",
       "    }\n",
       "\n",
       "    .dataframe thead th {\n",
       "        text-align: right;\n",
       "    }\n",
       "</style>\n",
       "<table border=\"1\" class=\"dataframe\">\n",
       "  <thead>\n",
       "    <tr style=\"text-align: right;\">\n",
       "      <th></th>\n",
       "      <th>education</th>\n",
       "      <th>region_rating</th>\n",
       "      <th>home_address</th>\n",
       "      <th>work_address</th>\n",
       "      <th>sna</th>\n",
       "      <th>first_time</th>\n",
       "    </tr>\n",
       "  </thead>\n",
       "  <tbody>\n",
       "    <tr>\n",
       "      <th>0</th>\n",
       "      <td>0</td>\n",
       "      <td>50</td>\n",
       "      <td>1</td>\n",
       "      <td>2</td>\n",
       "      <td>4</td>\n",
       "      <td>1</td>\n",
       "    </tr>\n",
       "    <tr>\n",
       "      <th>1</th>\n",
       "      <td>0</td>\n",
       "      <td>50</td>\n",
       "      <td>2</td>\n",
       "      <td>3</td>\n",
       "      <td>4</td>\n",
       "      <td>1</td>\n",
       "    </tr>\n",
       "    <tr>\n",
       "      <th>2</th>\n",
       "      <td>0</td>\n",
       "      <td>80</td>\n",
       "      <td>1</td>\n",
       "      <td>2</td>\n",
       "      <td>1</td>\n",
       "      <td>4</td>\n",
       "    </tr>\n",
       "  </tbody>\n",
       "</table>\n",
       "</div>"
      ],
      "text/plain": [
       "   education  region_rating  home_address  work_address  sna  first_time\n",
       "0          0             50             1             2    4           1\n",
       "1          0             50             2             3    4           1\n",
       "2          0             80             1             2    1           4"
      ]
     },
     "execution_count": 27,
     "metadata": {},
     "output_type": "execute_result"
    }
   ],
   "source": [
    "data[cat_cols].head(3)"
   ]
  },
  {
   "cell_type": "markdown",
   "metadata": {
    "papermill": {
     "duration": 0.063585,
     "end_time": "2020-12-23T10:24:28.293408",
     "exception": false,
     "start_time": "2020-12-23T10:24:28.229823",
     "status": "completed"
    },
    "tags": []
   },
   "source": [
    "## Визуализация категориальных переменных"
   ]
  },
  {
   "cell_type": "code",
   "execution_count": 28,
   "metadata": {
    "execution": {
     "iopub.execute_input": "2020-12-23T10:24:28.425161Z",
     "iopub.status.busy": "2020-12-23T10:24:28.424526Z",
     "iopub.status.idle": "2020-12-23T10:24:39.000478Z",
     "shell.execute_reply": "2020-12-23T10:24:39.000995Z"
    },
    "papermill": {
     "duration": 10.643683,
     "end_time": "2020-12-23T10:24:39.001154",
     "exception": false,
     "start_time": "2020-12-23T10:24:28.357471",
     "status": "completed"
    },
    "tags": []
   },
   "outputs": [
    {
     "data": {
      "image/png": "[encoded data removed]",
      "text/plain": [
       "<Figure size 864x216 with 4 Axes>"
      ]
     },
     "metadata": {},
     "output_type": "display_data"
    },
    {
     "data": {
      "image/png": "[encoded data removed]",
      "text/plain": [
       "<Figure size 864x216 with 4 Axes>"
      ]
     },
     "metadata": {},
     "output_type": "display_data"
    },
    {
     "data": {
      "image/png": "[encoded data removed]",
      "text/plain": [
       "<Figure size 864x216 with 4 Axes>"
      ]
     },
     "metadata": {},
     "output_type": "display_data"
    },
    {
     "data": {
      "image/png": "[encoded data removed]",
      "text/plain": [
       "<Figure size 864x216 with 4 Axes>"
      ]
     },
     "metadata": {},
     "output_type": "display_data"
    },
    {
     "data": {
      "image/png": "[encoded data removed]",
      "text/plain": [
       "<Figure size 864x216 with 4 Axes>"
      ]
     },
     "metadata": {},
     "output_type": "display_data"
    },
    {
     "data": {
      "image/png": "[encoded data removed]",
      "text/plain": [
       "<Figure size 864x216 with 4 Axes>"
      ]
     },
     "metadata": {},
     "output_type": "display_data"
    }
   ],
   "source": [
    "# обернуть в функцию\n",
    "df = data.query('Train == 1')\n",
    "\n",
    "for col in cat_cols:\n",
    "    \n",
    "    fig = plt.figure(figsize=(12, 3))\n",
    "    gsp = fig.add_gridspec(1, 4)\n",
    "    \n",
    "    ax = fig.add_subplot(gsp[0, 0])\n",
    "    sns.boxplot(data=df[col])\n",
    "    \n",
    "    ax = fig.add_subplot(gsp[0, 1])\n",
    "    sns.barplot(x=col, y='default', data=df, estimator=len)\n",
    "        \n",
    "\n",
    "    ax = fig.add_subplot(gsp[0, 2])\n",
    "    sns.barplot(x='default', y=col, data=df, estimator=len)\n",
    "\n",
    "\n",
    "    ax = fig.add_subplot(gsp[0, 3])\n",
    "    sns.boxplot(x='default', y=col, data=df)\n",
    "\n",
    "    fig.tight_layout()"
   ]
  },
  {
   "cell_type": "markdown",
   "metadata": {
    "papermill": {
     "duration": 0.068754,
     "end_time": "2020-12-23T10:24:39.139961",
     "exception": false,
     "start_time": "2020-12-23T10:24:39.071207",
     "status": "completed"
    },
    "tags": []
   },
   "source": [
    "## Значимость категориальных признаков"
   ]
  },
  {
   "cell_type": "code",
   "execution_count": 29,
   "metadata": {
    "execution": {
     "iopub.execute_input": "2020-12-23T10:24:39.281845Z",
     "iopub.status.busy": "2020-12-23T10:24:39.281200Z",
     "iopub.status.idle": "2020-12-23T10:24:39.758677Z",
     "shell.execute_reply": "2020-12-23T10:24:39.757977Z"
    },
    "papermill": {
     "duration": 0.549891,
     "end_time": "2020-12-23T10:24:39.758797",
     "exception": false,
     "start_time": "2020-12-23T10:24:39.208906",
     "status": "completed"
    },
    "tags": []
   },
   "outputs": [
    {
     "data": {
      "text/plain": [
       "<matplotlib.axes._subplots.AxesSubplot at 0x7f99018da450>"
      ]
     },
     "execution_count": 29,
     "metadata": {},
     "output_type": "execute_result"
    },
    {
     "data": {
      "image/png": "[encoded data removed]",
      "text/plain": [
       "<Figure size 504x360 with 1 Axes>"
      ]
     },
     "metadata": {},
     "output_type": "display_data"
    }
   ],
   "source": [
    "imp_cat = pd.Series(mutual_info_classif(df[bin_cols + cat_cols], df['default'],\n",
    "                                     discrete_features =True), index = bin_cols + cat_cols)\n",
    "imp_cat.sort_values(inplace = True)\n",
    "imp_cat.plot(kind = 'barh')"
   ]
  },
  {
   "cell_type": "markdown",
   "metadata": {
    "papermill": {
     "duration": 0.070305,
     "end_time": "2020-12-23T10:24:39.903784",
     "exception": false,
     "start_time": "2020-12-23T10:24:39.833479",
     "status": "completed"
    },
    "tags": []
   },
   "source": [
    "# Подготовка данных к машинному обучению"
   ]
  },
  {
   "cell_type": "code",
   "execution_count": 30,
   "metadata": {
    "execution": {
     "iopub.execute_input": "2020-12-23T10:24:40.058172Z",
     "iopub.status.busy": "2020-12-23T10:24:40.057112Z",
     "iopub.status.idle": "2020-12-23T10:24:40.089241Z",
     "shell.execute_reply": "2020-12-23T10:24:40.088589Z"
    },
    "papermill": {
     "duration": 0.114167,
     "end_time": "2020-12-23T10:24:40.089377",
     "exception": false,
     "start_time": "2020-12-23T10:24:39.975210",
     "status": "completed"
    },
    "tags": []
   },
   "outputs": [],
   "source": [
    "data = pd.get_dummies(data, prefix=cat_cols, columns=cat_cols)"
   ]
  },
  {
   "cell_type": "code",
   "execution_count": 31,
   "metadata": {
    "execution": {
     "iopub.execute_input": "2020-12-23T10:24:40.238587Z",
     "iopub.status.busy": "2020-12-23T10:24:40.236469Z",
     "iopub.status.idle": "2020-12-23T10:24:40.249866Z",
     "shell.execute_reply": "2020-12-23T10:24:40.249261Z"
    },
    "papermill": {
     "duration": 0.090248,
     "end_time": "2020-12-23T10:24:40.249984",
     "exception": false,
     "start_time": "2020-12-23T10:24:40.159736",
     "status": "completed"
    },
    "tags": []
   },
   "outputs": [],
   "source": [
    "data.drop(['app_date', 'client_id'], axis=1, inplace=True)"
   ]
  },
  {
   "cell_type": "code",
   "execution_count": 32,
   "metadata": {
    "execution": {
     "iopub.execute_input": "2020-12-23T10:24:40.397982Z",
     "iopub.status.busy": "2020-12-23T10:24:40.397196Z",
     "iopub.status.idle": "2020-12-23T10:24:40.421636Z",
     "shell.execute_reply": "2020-12-23T10:24:40.422379Z"
    },
    "papermill": {
     "duration": 0.102742,
     "end_time": "2020-12-23T10:24:40.422740",
     "exception": false,
     "start_time": "2020-12-23T10:24:40.319998",
     "status": "completed"
    },
    "tags": []
   },
   "outputs": [
    {
     "name": "stdout",
     "output_type": "stream",
     "text": [
      "<class 'pandas.core.frame.DataFrame'>\n",
      "RangeIndex: 110148 entries, 0 to 110147\n",
      "Data columns (total 39 columns):\n",
      " #   Column            Non-Null Count   Dtype  \n",
      "---  ------            --------------   -----  \n",
      " 0   sex               110148 non-null  int64  \n",
      " 1   age               110148 non-null  int64  \n",
      " 2   car               110148 non-null  int64  \n",
      " 3   car_type          110148 non-null  int64  \n",
      " 4   decline_app_cnt   110148 non-null  int64  \n",
      " 5   good_work         110148 non-null  int64  \n",
      " 6   score_bki         110148 non-null  float64\n",
      " 7   bki_request_cnt   110148 non-null  int64  \n",
      " 8   income            110148 non-null  int64  \n",
      " 9   foreign_passport  110148 non-null  int64  \n",
      " 10  default           73799 non-null   float64\n",
      " 11  Train             110148 non-null  int64  \n",
      " 12  day_count         110148 non-null  int64  \n",
      " 13  education_0       110148 non-null  uint8  \n",
      " 14  education_1       110148 non-null  uint8  \n",
      " 15  education_2       110148 non-null  uint8  \n",
      " 16  education_3       110148 non-null  uint8  \n",
      " 17  education_4       110148 non-null  uint8  \n",
      " 18  region_rating_20  110148 non-null  uint8  \n",
      " 19  region_rating_30  110148 non-null  uint8  \n",
      " 20  region_rating_40  110148 non-null  uint8  \n",
      " 21  region_rating_50  110148 non-null  uint8  \n",
      " 22  region_rating_60  110148 non-null  uint8  \n",
      " 23  region_rating_70  110148 non-null  uint8  \n",
      " 24  region_rating_80  110148 non-null  uint8  \n",
      " 25  home_address_1    110148 non-null  uint8  \n",
      " 26  home_address_2    110148 non-null  uint8  \n",
      " 27  home_address_3    110148 non-null  uint8  \n",
      " 28  work_address_1    110148 non-null  uint8  \n",
      " 29  work_address_2    110148 non-null  uint8  \n",
      " 30  work_address_3    110148 non-null  uint8  \n",
      " 31  sna_1             110148 non-null  uint8  \n",
      " 32  sna_2             110148 non-null  uint8  \n",
      " 33  sna_3             110148 non-null  uint8  \n",
      " 34  sna_4             110148 non-null  uint8  \n",
      " 35  first_time_1      110148 non-null  uint8  \n",
      " 36  first_time_2      110148 non-null  uint8  \n",
      " 37  first_time_3      110148 non-null  uint8  \n",
      " 38  first_time_4      110148 non-null  uint8  \n",
      "dtypes: float64(2), int64(11), uint8(26)\n",
      "memory usage: 13.7 MB\n"
     ]
    }
   ],
   "source": [
    "data.info()"
   ]
  },
  {
   "cell_type": "markdown",
   "metadata": {
    "papermill": {
     "duration": 0.071707,
     "end_time": "2020-12-23T10:24:40.568914",
     "exception": false,
     "start_time": "2020-12-23T10:24:40.497207",
     "status": "completed"
    },
    "tags": []
   },
   "source": [
    "### Масштабирование данны"
   ]
  },
  {
   "cell_type": "code",
   "execution_count": 33,
   "metadata": {
    "execution": {
     "iopub.execute_input": "2020-12-23T10:24:40.720353Z",
     "iopub.status.busy": "2020-12-23T10:24:40.719630Z",
     "iopub.status.idle": "2020-12-23T10:24:40.958886Z",
     "shell.execute_reply": "2020-12-23T10:24:40.958197Z"
    },
    "papermill": {
     "duration": 0.318679,
     "end_time": "2020-12-23T10:24:40.958999",
     "exception": false,
     "start_time": "2020-12-23T10:24:40.640320",
     "status": "completed"
    },
    "tags": []
   },
   "outputs": [],
   "source": [
    "scaler = RobustScaler()\n",
    "\n",
    "data[num_cols] = scaler.fit_transform(data[num_cols].values)"
   ]
  },
  {
   "cell_type": "markdown",
   "metadata": {
    "papermill": {
     "duration": 0.072267,
     "end_time": "2020-12-23T10:24:41.103871",
     "exception": false,
     "start_time": "2020-12-23T10:24:41.031604",
     "status": "completed"
    },
    "tags": []
   },
   "source": [
    "## Разбиение выбрки"
   ]
  },
  {
   "cell_type": "code",
   "execution_count": 34,
   "metadata": {
    "execution": {
     "iopub.execute_input": "2020-12-23T10:24:41.254441Z",
     "iopub.status.busy": "2020-12-23T10:24:41.253688Z",
     "iopub.status.idle": "2020-12-23T10:24:41.432932Z",
     "shell.execute_reply": "2020-12-23T10:24:41.433460Z"
    },
    "papermill": {
     "duration": 0.258082,
     "end_time": "2020-12-23T10:24:41.433622",
     "exception": false,
     "start_time": "2020-12-23T10:24:41.175540",
     "status": "completed"
    },
    "tags": []
   },
   "outputs": [],
   "source": [
    "train_data = data.query('Train == 1').drop(['Train'], axis=1)\n",
    "test_data  = data.query('Train == 1').drop(['Train'], axis=1)\n",
    "     \n",
    "X = train_data.drop(['default'], axis=1).values\n",
    "y = train_data.default.values  "
   ]
  },
  {
   "cell_type": "code",
   "execution_count": 35,
   "metadata": {
    "execution": {
     "iopub.execute_input": "2020-12-23T10:24:41.586309Z",
     "iopub.status.busy": "2020-12-23T10:24:41.584488Z",
     "iopub.status.idle": "2020-12-23T10:24:41.620866Z",
     "shell.execute_reply": "2020-12-23T10:24:41.620090Z"
    },
    "papermill": {
     "duration": 0.114559,
     "end_time": "2020-12-23T10:24:41.620990",
     "exception": false,
     "start_time": "2020-12-23T10:24:41.506431",
     "status": "completed"
    },
    "tags": []
   },
   "outputs": [
    {
     "data": {
      "text/plain": [
       "((73799, 38), (73799, 38), (73799, 37), (59039, 37), (14760, 37))"
      ]
     },
     "execution_count": 35,
     "metadata": {},
     "output_type": "execute_result"
    }
   ],
   "source": [
    "# Из train выделяем данные на валидацию \n",
    "X_train, X_valid, y_train, y_valid = train_test_split(X, y, test_size=0.2, random_state=random_seed)\n",
    "test_data.shape, train_data.shape, X.shape, X_train.shape, X_valid.shape"
   ]
  },
  {
   "cell_type": "markdown",
   "metadata": {
    "papermill": {
     "duration": 0.072486,
     "end_time": "2020-12-23T10:24:41.766067",
     "exception": false,
     "start_time": "2020-12-23T10:24:41.693581",
     "status": "completed"
    },
    "tags": []
   },
   "source": [
    "# Машинное обучение"
   ]
  },
  {
   "cell_type": "code",
   "execution_count": 36,
   "metadata": {
    "execution": {
     "iopub.execute_input": "2020-12-23T10:24:41.918786Z",
     "iopub.status.busy": "2020-12-23T10:24:41.918122Z",
     "iopub.status.idle": "2020-12-23T10:24:43.201080Z",
     "shell.execute_reply": "2020-12-23T10:24:43.201637Z"
    },
    "papermill": {
     "duration": 1.362348,
     "end_time": "2020-12-23T10:24:43.201782",
     "exception": false,
     "start_time": "2020-12-23T10:24:41.839434",
     "status": "completed"
    },
    "tags": []
   },
   "outputs": [],
   "source": [
    "model = LogisticRegression(random_state=random_seed, max_iter = 1000)\n",
    "\n",
    "model.fit(X_train, y_train)\n",
    "\n",
    "y_pred_prob = model.predict_proba(X_valid)[:,1]\n",
    "y_pred = model.predict(X_valid)"
   ]
  },
  {
   "cell_type": "markdown",
   "metadata": {
    "papermill": {
     "duration": 0.073724,
     "end_time": "2020-12-23T10:24:43.347647",
     "exception": false,
     "start_time": "2020-12-23T10:24:43.273923",
     "status": "completed"
    },
    "tags": []
   },
   "source": [
    "### Метрики"
   ]
  },
  {
   "cell_type": "code",
   "execution_count": 37,
   "metadata": {
    "execution": {
     "iopub.execute_input": "2020-12-23T10:24:43.497742Z",
     "iopub.status.busy": "2020-12-23T10:24:43.496710Z",
     "iopub.status.idle": "2020-12-23T10:24:43.533498Z",
     "shell.execute_reply": "2020-12-23T10:24:43.534060Z"
    },
    "papermill": {
     "duration": 0.1134,
     "end_time": "2020-12-23T10:24:43.534205",
     "exception": false,
     "start_time": "2020-12-23T10:24:43.420805",
     "status": "completed"
    },
    "tags": []
   },
   "outputs": [],
   "source": [
    "# Метрики\n",
    "precision, recall, thresholds = precision_recall_curve(y_valid, y_pred_prob)\n",
    "Accuracy_1 = accuracy_score(y_valid, y_pred)\n",
    "Precision_1 = precision_score(y_valid, y_pred)\n",
    "Recall_1 = recall_score(y_valid, y_pred)\n",
    "F1_1 = f1_score(y_valid, y_pred)\n",
    "ROC_AUC_1 = round(roc_auc_score(y_valid, y_pred_prob), 4)\n",
    "PRC_AUC_1 = round(auc(recall, precision), 4)"
   ]
  },
  {
   "cell_type": "markdown",
   "metadata": {
    "papermill": {
     "duration": 0.073431,
     "end_time": "2020-12-23T10:24:43.681478",
     "exception": false,
     "start_time": "2020-12-23T10:24:43.608047",
     "status": "completed"
    },
    "tags": []
   },
   "source": [
    "### Кривая ROC-AUC"
   ]
  },
  {
   "cell_type": "code",
   "execution_count": 38,
   "metadata": {
    "execution": {
     "iopub.execute_input": "2020-12-23T10:24:43.834740Z",
     "iopub.status.busy": "2020-12-23T10:24:43.834052Z",
     "iopub.status.idle": "2020-12-23T10:24:44.165584Z",
     "shell.execute_reply": "2020-12-23T10:24:44.166066Z"
    },
    "papermill": {
     "duration": 0.41203,
     "end_time": "2020-12-23T10:24:44.166216",
     "exception": false,
     "start_time": "2020-12-23T10:24:43.754186",
     "status": "completed"
    },
    "tags": []
   },
   "outputs": [
    {
     "data": {
      "image/png": "[encoded data removed]",
      "text/plain": [
       "<Figure size 504x360 with 1 Axes>"
      ]
     },
     "metadata": {},
     "output_type": "display_data"
    }
   ],
   "source": [
    "fpr, tpr, threshold = roc_curve(y_valid, y_pred_prob)\n",
    "roc_auc = roc_auc_score(y_valid, y_pred_prob)\n",
    "\n",
    "plt.figure()\n",
    "plt.plot([0, 1], label='Baseline', linestyle='--')\n",
    "plt.plot(fpr, tpr, label = 'Regression')\n",
    "plt.title('Logistic Regression ROC AUC = %0.3f' % roc_auc)\n",
    "plt.ylabel('True Positive Rate')\n",
    "plt.xlabel('False Positive Rate')\n",
    "plt.legend(loc = 'lower right')\n",
    "plt.show()"
   ]
  },
  {
   "cell_type": "code",
   "execution_count": 39,
   "metadata": {
    "execution": {
     "iopub.execute_input": "2020-12-23T10:24:44.321673Z",
     "iopub.status.busy": "2020-12-23T10:24:44.320565Z",
     "iopub.status.idle": "2020-12-23T10:24:44.348817Z",
     "shell.execute_reply": "2020-12-23T10:24:44.348194Z"
    },
    "papermill": {
     "duration": 0.108502,
     "end_time": "2020-12-23T10:24:44.348931",
     "exception": false,
     "start_time": "2020-12-23T10:24:44.240429",
     "status": "completed"
    },
    "tags": []
   },
   "outputs": [],
   "source": [
    "TN, FP, FN, TP = confusion_matrix(y_valid, y_pred).ravel()\n",
    "conf_matrix = [[TP, FP],[FN, TN]]"
   ]
  },
  {
   "cell_type": "code",
   "execution_count": 40,
   "metadata": {
    "execution": {
     "iopub.execute_input": "2020-12-23T10:24:44.512490Z",
     "iopub.status.busy": "2020-12-23T10:24:44.511282Z",
     "iopub.status.idle": "2020-12-23T10:24:44.742292Z",
     "shell.execute_reply": "2020-12-23T10:24:44.741658Z"
    },
    "papermill": {
     "duration": 0.318946,
     "end_time": "2020-12-23T10:24:44.742417",
     "exception": false,
     "start_time": "2020-12-23T10:24:44.423471",
     "status": "completed"
    },
    "tags": []
   },
   "outputs": [
    {
     "data": {
      "text/plain": [
       "<matplotlib.axes._subplots.AxesSubplot at 0x7f9901b64450>"
      ]
     },
     "execution_count": 40,
     "metadata": {},
     "output_type": "execute_result"
    },
    {
     "data": {
      "image/png": "[encoded data removed]",
      "text/plain": [
       "<Figure size 504x360 with 2 Axes>"
      ]
     },
     "metadata": {},
     "output_type": "display_data"
    }
   ],
   "source": [
    "sns.heatmap(conf_matrix, annot = True, vmin=-300, vmax=600)"
   ]
  },
  {
   "cell_type": "code",
   "execution_count": 41,
   "metadata": {
    "execution": {
     "iopub.execute_input": "2020-12-23T10:24:44.899973Z",
     "iopub.status.busy": "2020-12-23T10:24:44.899303Z",
     "iopub.status.idle": "2020-12-23T10:24:44.906203Z",
     "shell.execute_reply": "2020-12-23T10:24:44.905543Z"
    },
    "papermill": {
     "duration": 0.087331,
     "end_time": "2020-12-23T10:24:44.906340",
     "exception": false,
     "start_time": "2020-12-23T10:24:44.819009",
     "status": "completed"
    },
    "tags": []
   },
   "outputs": [],
   "source": [
    "precision, recall, thresholds = precision_recall_curve(y_valid, y_pred_prob)"
   ]
  },
  {
   "cell_type": "code",
   "execution_count": 42,
   "metadata": {
    "execution": {
     "iopub.execute_input": "2020-12-23T10:24:45.073100Z",
     "iopub.status.busy": "2020-12-23T10:24:45.072289Z",
     "iopub.status.idle": "2020-12-23T10:24:45.381988Z",
     "shell.execute_reply": "2020-12-23T10:24:45.381199Z"
    },
    "papermill": {
     "duration": 0.398981,
     "end_time": "2020-12-23T10:24:45.382119",
     "exception": false,
     "start_time": "2020-12-23T10:24:44.983138",
     "status": "completed"
    },
    "tags": []
   },
   "outputs": [
    {
     "data": {
      "image/png": "[encoded data removed]",
      "text/plain": [
       "<Figure size 1728x432 with 1 Axes>"
      ]
     },
     "metadata": {},
     "output_type": "display_data"
    }
   ],
   "source": [
    "plt.figure(figsize=(24, 6))\n",
    "plt.plot(recall, precision)\n",
    "    \n",
    "plt.xlabel('Recall')\n",
    "plt.ylabel('Precision')\n",
    "plt.show()"
   ]
  },
  {
   "cell_type": "code",
   "execution_count": 43,
   "metadata": {
    "execution": {
     "iopub.execute_input": "2020-12-23T10:24:45.544955Z",
     "iopub.status.busy": "2020-12-23T10:24:45.544249Z",
     "iopub.status.idle": "2020-12-23T10:24:45.578797Z",
     "shell.execute_reply": "2020-12-23T10:24:45.578191Z"
    },
    "papermill": {
     "duration": 0.11934,
     "end_time": "2020-12-23T10:24:45.578913",
     "exception": false,
     "start_time": "2020-12-23T10:24:45.459573",
     "status": "completed"
    },
    "tags": []
   },
   "outputs": [
    {
     "name": "stdout",
     "output_type": "stream",
     "text": [
      "Accuracy_1: 0.8744\n",
      "Precision_1: 0.3738\n",
      "Recall_1: 0.0219\n",
      "F1_1: 0.0414\n",
      "ROC_AUC_1 =  0.7427\n",
      "PRC_AUC_1 =  0.2829\n"
     ]
    }
   ],
   "source": [
    "# Метрики\n",
    "Accuracy_1 = accuracy_score(y_valid, y_pred)\n",
    "print('Accuracy_1: %.4f' % Accuracy_1)\n",
    "Precision_1 = precision_score(y_valid, y_pred)\n",
    "print('Precision_1: %.4f' % Precision_1)\n",
    "Recall_1 = recall_score(y_valid, y_pred)\n",
    "print('Recall_1: %.4f' % Recall_1)\n",
    "F1_1 = f1_score(y_valid, y_pred)\n",
    "print('F1_1: %.4f' % F1_1)\n",
    "ROC_AUC_1 = round(roc_auc_score(y_valid, y_pred_prob), 4)\n",
    "print('ROC_AUC_1 = ', ROC_AUC_1)\n",
    "PRC_AUC_1 = round(auc(recall, precision), 4)\n",
    "print('PRC_AUC_1 = ', PRC_AUC_1)"
   ]
  },
  {
   "cell_type": "markdown",
   "metadata": {
    "papermill": {
     "duration": 0.077193,
     "end_time": "2020-12-23T10:24:45.732862",
     "exception": false,
     "start_time": "2020-12-23T10:24:45.655669",
     "status": "completed"
    },
    "tags": []
   },
   "source": [
    "## Оптимизация параметров"
   ]
  },
  {
   "cell_type": "code",
   "execution_count": 44,
   "metadata": {
    "execution": {
     "iopub.execute_input": "2020-12-23T10:24:45.902021Z",
     "iopub.status.busy": "2020-12-23T10:24:45.899861Z",
     "iopub.status.idle": "2020-12-23T10:26:09.966587Z",
     "shell.execute_reply": "2020-12-23T10:26:09.967135Z"
    },
    "papermill": {
     "duration": 84.154739,
     "end_time": "2020-12-23T10:26:09.967308",
     "exception": false,
     "start_time": "2020-12-23T10:24:45.812569",
     "status": "completed"
    },
    "tags": []
   },
   "outputs": [
    {
     "name": "stdout",
     "output_type": "stream",
     "text": [
      "LogisticRegression(class_weight='balanced', max_iter=50, random_state=42,\n",
      "                   solver='liblinear')\n"
     ]
    }
   ],
   "source": [
    "model = LogisticRegression(random_state=random_seed)\n",
    "iter_val = 50  \n",
    "param_grid = [\n",
    "    {'penalty': ['l1'], \n",
    "     'solver': ['liblinear', 'lbfgs'], \n",
    "     'class_weight':['none', 'balanced'], \n",
    "     'multi_class': ['auto','ovr'], \n",
    "     'max_iter':[iter_val]},\n",
    "    \n",
    "    {'penalty': ['l2'], \n",
    "     'solver': ['newton-cg', 'lbfgs', 'liblinear', 'sag', 'saga'], \n",
    "     'class_weight':['none', 'balanced'], \n",
    "     'multi_class': ['auto','ovr'], \n",
    "     'max_iter':[iter_val]},\n",
    "    \n",
    "    {'penalty': ['none'], \n",
    "     'solver': ['newton-cg', 'lbfgs', 'sag', 'saga'], \n",
    "     'class_weight':['none', 'balanced'], \n",
    "     'multi_class': ['auto','ovr'], \n",
    "     'max_iter':[iter_val]},\n",
    "]\n",
    "\n",
    "gridsearch = GridSearchCV(model, param_grid, scoring='f1', n_jobs=-1)\n",
    "gridsearch.fit(X_train, y_train)\n",
    "model = gridsearch.best_estimator_\n",
    "print(model)\n"
   ]
  },
  {
   "cell_type": "code",
   "execution_count": 45,
   "metadata": {
    "execution": {
     "iopub.execute_input": "2020-12-23T10:26:10.128994Z",
     "iopub.status.busy": "2020-12-23T10:26:10.128277Z",
     "iopub.status.idle": "2020-12-23T10:26:10.601939Z",
     "shell.execute_reply": "2020-12-23T10:26:10.601265Z"
    },
    "papermill": {
     "duration": 0.557319,
     "end_time": "2020-12-23T10:26:10.602080",
     "exception": false,
     "start_time": "2020-12-23T10:26:10.044761",
     "status": "completed"
    },
    "tags": []
   },
   "outputs": [],
   "source": [
    "model.fit(X_train, y_train)\n",
    "\n",
    "y_pred_prob = model.predict_proba(X_valid)[:,1]\n",
    "y_pred = model.predict(X_valid)"
   ]
  },
  {
   "cell_type": "code",
   "execution_count": 46,
   "metadata": {
    "execution": {
     "iopub.execute_input": "2020-12-23T10:26:10.769092Z",
     "iopub.status.busy": "2020-12-23T10:26:10.767968Z",
     "iopub.status.idle": "2020-12-23T10:26:11.039944Z",
     "shell.execute_reply": "2020-12-23T10:26:11.039361Z"
    },
    "papermill": {
     "duration": 0.35642,
     "end_time": "2020-12-23T10:26:11.040057",
     "exception": false,
     "start_time": "2020-12-23T10:26:10.683637",
     "status": "completed"
    },
    "tags": []
   },
   "outputs": [
    {
     "data": {
      "text/plain": [
       "<matplotlib.axes._subplots.AxesSubplot at 0x7f99035d2fd0>"
      ]
     },
     "execution_count": 46,
     "metadata": {},
     "output_type": "execute_result"
    },
    {
     "data": {
      "image/png": "[encoded data removed]",
      "text/plain": [
       "<Figure size 504x360 with 2 Axes>"
      ]
     },
     "metadata": {},
     "output_type": "display_data"
    }
   ],
   "source": [
    "# матрица ошибок\n",
    "TN, FP, FN, TP = confusion_matrix(y_valid, y_pred).ravel()\n",
    "conf_matrix = [[TP, FP],[FN, TN]]\n",
    "sns.heatmap(conf_matrix, annot = True, vmin=-3, vmax=6)"
   ]
  },
  {
   "cell_type": "code",
   "execution_count": 47,
   "metadata": {
    "execution": {
     "iopub.execute_input": "2020-12-23T10:26:11.211054Z",
     "iopub.status.busy": "2020-12-23T10:26:11.209975Z",
     "iopub.status.idle": "2020-12-23T10:26:11.252178Z",
     "shell.execute_reply": "2020-12-23T10:26:11.251243Z"
    },
    "papermill": {
     "duration": 0.131884,
     "end_time": "2020-12-23T10:26:11.252315",
     "exception": false,
     "start_time": "2020-12-23T10:26:11.120431",
     "status": "completed"
    },
    "tags": []
   },
   "outputs": [
    {
     "name": "stdout",
     "output_type": "stream",
     "text": [
      "Старые значения метрик:\n",
      "Accuracy_1: 0.8744\n",
      "Precision_1: 0.3738\n",
      "Recall_1: 0.0219\n",
      "F1_1: 0.0414\n",
      "ROC_AUC_1 =  0.7427\n",
      "PRC_AUC_1 =  0.2829\n",
      "\n",
      "Новые значения метрик:\n",
      "Accuracy: 0.6694\n",
      "Precision: 0.2249\n",
      "Recall: 0.6831\n",
      "F1: 0.3384\n",
      "ROC_AUC =  0.7422\n",
      "PRC_AUC =  0.2829\n"
     ]
    }
   ],
   "source": [
    "print('Старые значения метрик:')\n",
    "print('Accuracy_1: %.4f' % Accuracy_1)\n",
    "print('Precision_1: %.4f' % Precision_1)\n",
    "print('Recall_1: %.4f' % Recall_1)\n",
    "print('F1_1: %.4f' % F1_1)\n",
    "print('ROC_AUC_1 = ', ROC_AUC_1)\n",
    "print('PRC_AUC_1 = ', PRC_AUC_1)\n",
    "print('\\nНовые значения метрик:')\n",
    "print('Accuracy: %.4f' % accuracy_score(y_valid, y_pred))\n",
    "print('Precision: %.4f' % precision_score(y_valid, y_pred))\n",
    "print('Recall: %.4f' % recall_score(y_valid, y_pred))\n",
    "print('F1: %.4f' % f1_score(y_valid, y_pred))\n",
    "print('ROC_AUC = ', round(roc_auc_score(y_valid, y_pred_prob), 4))\n",
    "print('PRC_AUC = ', round(auc(recall, precision), 4))"
   ]
  },
  {
   "cell_type": "markdown",
   "metadata": {
    "papermill": {
     "duration": 0.081437,
     "end_time": "2020-12-23T10:26:11.415457",
     "exception": false,
     "start_time": "2020-12-23T10:26:11.334020",
     "status": "completed"
    },
    "tags": []
   },
   "source": [
    "# Submission"
   ]
  },
  {
   "cell_type": "code",
   "execution_count": 48,
   "metadata": {
    "execution": {
     "iopub.execute_input": "2020-12-23T10:26:11.581412Z",
     "iopub.status.busy": "2020-12-23T10:26:11.580407Z",
     "iopub.status.idle": "2020-12-23T10:26:11.618199Z",
     "shell.execute_reply": "2020-12-23T10:26:11.617428Z"
    },
    "papermill": {
     "duration": 0.12306,
     "end_time": "2020-12-23T10:26:11.618371",
     "exception": false,
     "start_time": "2020-12-23T10:26:11.495311",
     "status": "completed"
    },
    "tags": []
   },
   "outputs": [],
   "source": [
    "train_data = data.query('Train == 1').drop(['Train'], axis=1)\n",
    "test_data =  data.query('Train == 0').drop(['Train'], axis=1)"
   ]
  },
  {
   "cell_type": "code",
   "execution_count": 49,
   "metadata": {
    "execution": {
     "iopub.execute_input": "2020-12-23T10:26:11.794610Z",
     "iopub.status.busy": "2020-12-23T10:26:11.793301Z",
     "iopub.status.idle": "2020-12-23T10:26:11.801290Z",
     "shell.execute_reply": "2020-12-23T10:26:11.800650Z"
    },
    "papermill": {
     "duration": 0.09813,
     "end_time": "2020-12-23T10:26:11.801431",
     "exception": false,
     "start_time": "2020-12-23T10:26:11.703301",
     "status": "completed"
    },
    "tags": []
   },
   "outputs": [],
   "source": [
    "X_train=train_data.drop(['default'], axis=1)\n",
    "y_train = train_data.default.values\n",
    "X_test = test_data.drop(['default'], axis=1)"
   ]
  },
  {
   "cell_type": "code",
   "execution_count": 50,
   "metadata": {
    "execution": {
     "iopub.execute_input": "2020-12-23T10:26:11.970993Z",
     "iopub.status.busy": "2020-12-23T10:26:11.970059Z",
     "iopub.status.idle": "2020-12-23T10:26:11.974787Z",
     "shell.execute_reply": "2020-12-23T10:26:11.974251Z"
    },
    "papermill": {
     "duration": 0.092201,
     "end_time": "2020-12-23T10:26:11.974904",
     "exception": false,
     "start_time": "2020-12-23T10:26:11.882703",
     "status": "completed"
    },
    "tags": []
   },
   "outputs": [
    {
     "data": {
      "text/plain": [
       "((36349, 38), (73799, 38), (73799, 37), (73799,), (36349, 37))"
      ]
     },
     "execution_count": 50,
     "metadata": {},
     "output_type": "execute_result"
    }
   ],
   "source": [
    "test_data.shape, train_data.shape, X_train.shape, y_train.shape, X_test.shape"
   ]
  },
  {
   "cell_type": "code",
   "execution_count": 51,
   "metadata": {
    "execution": {
     "iopub.execute_input": "2020-12-23T10:26:12.143037Z",
     "iopub.status.busy": "2020-12-23T10:26:12.142266Z",
     "iopub.status.idle": "2020-12-23T10:26:12.800744Z",
     "shell.execute_reply": "2020-12-23T10:26:12.800096Z"
    },
    "papermill": {
     "duration": 0.7454,
     "end_time": "2020-12-23T10:26:12.800880",
     "exception": false,
     "start_time": "2020-12-23T10:26:12.055480",
     "status": "completed"
    },
    "tags": []
   },
   "outputs": [
    {
     "data": {
      "text/plain": [
       "LogisticRegression(class_weight='balanced', max_iter=50, random_state=42,\n",
       "                   solver='liblinear')"
      ]
     },
     "execution_count": 51,
     "metadata": {},
     "output_type": "execute_result"
    }
   ],
   "source": [
    "model.fit(X_train, y_train)"
   ]
  },
  {
   "cell_type": "code",
   "execution_count": 52,
   "metadata": {
    "execution": {
     "iopub.execute_input": "2020-12-23T10:26:12.984283Z",
     "iopub.status.busy": "2020-12-23T10:26:12.983045Z",
     "iopub.status.idle": "2020-12-23T10:26:13.479265Z",
     "shell.execute_reply": "2020-12-23T10:26:13.478169Z"
    },
    "papermill": {
     "duration": 0.587485,
     "end_time": "2020-12-23T10:26:13.479417",
     "exception": false,
     "start_time": "2020-12-23T10:26:12.891932",
     "status": "completed"
    },
    "tags": []
   },
   "outputs": [
    {
     "data": {
      "text/html": [
       "<div>\n",
       "<style scoped>\n",
       "    .dataframe tbody tr th:only-of-type {\n",
       "        vertical-align: middle;\n",
       "    }\n",
       "\n",
       "    .dataframe tbody tr th {\n",
       "        vertical-align: top;\n",
       "    }\n",
       "\n",
       "    .dataframe thead th {\n",
       "        text-align: right;\n",
       "    }\n",
       "</style>\n",
       "<table border=\"1\" class=\"dataframe\">\n",
       "  <thead>\n",
       "    <tr style=\"text-align: right;\">\n",
       "      <th></th>\n",
       "      <th>client_id</th>\n",
       "      <th>default</th>\n",
       "    </tr>\n",
       "  </thead>\n",
       "  <tbody>\n",
       "    <tr>\n",
       "      <th>0</th>\n",
       "      <td>74835</td>\n",
       "      <td>0.192887</td>\n",
       "    </tr>\n",
       "    <tr>\n",
       "      <th>1</th>\n",
       "      <td>17527</td>\n",
       "      <td>0.800288</td>\n",
       "    </tr>\n",
       "    <tr>\n",
       "      <th>2</th>\n",
       "      <td>75683</td>\n",
       "      <td>0.301899</td>\n",
       "    </tr>\n",
       "    <tr>\n",
       "      <th>3</th>\n",
       "      <td>26883</td>\n",
       "      <td>0.403569</td>\n",
       "    </tr>\n",
       "    <tr>\n",
       "      <th>4</th>\n",
       "      <td>28862</td>\n",
       "      <td>0.151837</td>\n",
       "    </tr>\n",
       "  </tbody>\n",
       "</table>\n",
       "</div>"
      ],
      "text/plain": [
       "   client_id   default\n",
       "0      74835  0.192887\n",
       "1      17527  0.800288\n",
       "2      75683  0.301899\n",
       "3      26883  0.403569\n",
       "4      28862  0.151837"
      ]
     },
     "execution_count": 52,
     "metadata": {},
     "output_type": "execute_result"
    }
   ],
   "source": [
    "y_pred_prob = model.predict_proba(X_test)[:,1]\n",
    "\n",
    "submit = pd.DataFrame(data_test.client_id)\n",
    "\n",
    "submit['default'] = y_pred_prob\n",
    "\n",
    "submit.to_csv('submission.csv', index=False)\n",
    "\n",
    "submit.head()"
   ]
  }
 ],
 "metadata": {
  "kernelspec": {
   "display_name": "Python 3",
   "language": "python",
   "name": "python3"
  },
  "language_info": {
   "codemirror_mode": {
    "name": "ipython",
    "version": 3
   },
   "file_extension": ".py",
   "mimetype": "text/x-python",
   "name": "python",
   "nbconvert_exporter": "python",
   "pygments_lexer": "ipython3",
   "version": "3.7.6"
  },
  "papermill": {
   "duration": 128.428417,
   "end_time": "2020-12-23T10:26:13.670254",
   "environment_variables": {},
   "exception": null,
   "input_path": "__notebook__.ipynb",
   "output_path": "__notebook__.ipynb",
   "parameters": {},
   "start_time": "2020-12-23T10:24:05.241837",
   "version": "2.1.0"
  }
 },
 "nbformat": 4,
 "nbformat_minor": 4
}
